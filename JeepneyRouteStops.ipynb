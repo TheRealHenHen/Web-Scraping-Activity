{
 "cells": [
  {
   "cell_type": "code",
   "execution_count": 4,
   "metadata": {},
   "outputs": [],
   "source": [
    "import requests\n",
    "import re\n",
    "from bs4 import BeautifulSoup"
   ]
  },
  {
   "cell_type": "code",
   "execution_count": 5,
   "metadata": {},
   "outputs": [],
   "source": [
    "r = requests.get('https://www.azlyrics.com/d/dongabay.html')\n",
    "soup = BeautifulSoup(r.content, 'html.parser')"
   ]
  },
  {
   "cell_type": "code",
   "execution_count": 6,
   "metadata": {},
   "outputs": [
    {
     "name": "stdout",
     "output_type": "stream",
     "text": [
      "<script type=\"text/javascript\">\n",
      "<!--\n",
      "var songlist = [\n",
      "{s:\"Aba-Aba\", h:\"/lyrics/dongabay/abaaba.html\", c:\"\", a:\"\", link_class:''},\n",
      "{s:\"Akrostik\", h:\"/lyrics/dongabay/akrostik.html\", c:\"\", a:\"\", link_class:''},\n",
      "{s:\"Awit Ng Kambing\", h:\"/lyrics/dongabay/awitngkambing.html\", c:\"\", a:\"\", link_class:''},\n",
      "{s:\"Ay Buhay\", h:\"/lyrics/dongabay/aybuhay.html\", c:\"\", a:\"\", link_class:''},\n",
      "{s:\"Bombardment\", h:\"/lyrics/dongabay/bombardment.html\", c:\"\", a:\"\", link_class:''},\n",
      "{s:\"Dyad\", h:\"/lyrics/dongabay/dyad.html\", c:\"\", a:\"\", link_class:''},\n",
      "{s:\"Espasyo\", h:\"/lyrics/dongabay/espasyo.html\", c:\"\", a:\"\", link_class:''},\n",
      "{s:\"Kukote\", h:\"/lyrics/dongabay/kukote.html\", c:\"\", a:\"\", link_class:''},\n",
      "{s:\"Mateo Singko\", h:\"/lyrics/dongabay/mateosingko.html\", c:\"\", a:\"\", link_class:''},\n",
      "{s:\"Perpekto\", h:\"/lyrics/dongabay/perpekto.html\", c:\"\", a:\"\", link_class:''},\n",
      "{s:\"Segundo\", h:\"/lyrics/dongabay/segundo.html\", c:\"\", a:\"\", link_class:''},\n",
      "{s:\"Solb\", h:\"/lyrics/dongabay/solb.html\", c:\"\", a:\"\", link_class:''},\n",
      "{s:\"Tuyo\", h:\"/lyrics/dongabay/tuyo.html\", c:\"\", a:\"\", link_class:''},\n",
      "{s:\"WWIII\", h:\"/lyrics/dongabay/wwiii.html\", c:\"\", a:\"\", link_class:''}];\n",
      "var albumlist = [\"<div id=\\\"55726\\\" class=\\\"album\\\">album: <b>\\\"Flipino\\\"<\\/b> (2006)<div><img src=\\\"\\/images\\/albums\\/557\\/b85bdd70ddff72762e1a77e7419a2f40.jpg\\\" class=\\\"album-image\\\" alt=\\\"Dong Abay - Flipino album cover\\\" \\/><\\/div><\\/div>\\r\\n<div class=\\\"listalbum-item\\\"><a href=\\\"\\/lyrics\\/dongabay\\/espasyo.html\\\" target=\\\"_blank\\\">Espasyo<\\/a><\\/div>\\n<div class=\\\"listalbum-item\\\"><a href=\\\"\\/lyrics\\/dongabay\\/akrostik.html\\\" target=\\\"_blank\\\">Akrostik<\\/a><\\/div>\\n<div class=\\\"listalbum-item\\\"><a href=\\\"\\/lyrics\\/dongabay\\/abaaba.html\\\" target=\\\"_blank\\\">Aba-Aba<\\/a><\\/div>\\n<div class=\\\"listalbum-item\\\"><a href=\\\"\\/lyrics\\/dongabay\\/perpekto.html\\\" target=\\\"_blank\\\">Perpekto<\\/a><\\/div>\\n<div class=\\\"listalbum-item\\\"><a href=\\\"\\/lyrics\\/dongabay\\/kukote.html\\\" target=\\\"_blank\\\">Kukote<\\/a><\\/div>\\n<div class=\\\"listalbum-item\\\"><a href=\\\"\\/lyrics\\/dongabay\\/awitngkambing.html\\\" target=\\\"_blank\\\">Awit Ng Kambing<\\/a><\\/div>\\n<div class=\\\"listalbum-item\\\"><a href=\\\"\\/lyrics\\/dongabay\\/tuyo.html\\\" target=\\\"_blank\\\">Tuyo<\\/a><\\/div>\\n<div class=\\\"listalbum-item\\\"><a href=\\\"\\/lyrics\\/dongabay\\/mateosingko.html\\\" target=\\\"_blank\\\">Mateo Singko<\\/a><\\/div>\\n<div class=\\\"listalbum-item\\\"><a href=\\\"\\/lyrics\\/dongabay\\/dyad.html\\\" target=\\\"_blank\\\">Dyad<\\/a><\\/div>\\n<div class=\\\"listalbum-item\\\"><a href=\\\"\\/lyrics\\/dongabay\\/bombardment.html\\\" target=\\\"_blank\\\">Bombardment<\\/a><\\/div>\\n<div class=\\\"listalbum-item\\\"><a href=\\\"\\/lyrics\\/dongabay\\/aybuhay.html\\\" target=\\\"_blank\\\">Ay Buhay<\\/a><\\/div>\\n<div class=\\\"listalbum-item\\\"><a href=\\\"\\/lyrics\\/dongabay\\/segundo.html\\\" target=\\\"_blank\\\">Segundo<\\/a><\\/div>\\n<div class=\\\"listalbum-item\\\"><a href=\\\"\\/lyrics\\/dongabay\\/solb.html\\\" target=\\\"_blank\\\">Solb<\\/a><\\/div>\\n<div class=\\\"listalbum-item\\\"><a href=\\\"\\/lyrics\\/dongabay\\/wwiii.html\\\" target=\\\"_blank\\\">WWIII<\\/a><\\/div>\\n\\r\\n\"];\n",
      "var albumlist_others = \"\";\n",
      "\n",
      "window.addEventListener('DOMContentLoaded', function(){\n",
      "\n",
      "$('#az_sort_song').on('click',function(event){\n",
      "    var sortprop='data-az-song-sort';\n",
      "    var el = event.currentTarget;\n",
      "    var el_glyph = $(el).children('span.glyphicon');\n",
      "    var res='';\n",
      "    if(el.getAttribute(sortprop)){\n",
      "        el.setAttribute(sortprop,'');\n",
      "        el_glyph.removeClass('glyphicon-sort-by-alphabet');\n",
      "        el_glyph.addClass('glyphicon-sort-by-alphabet-alt');\n",
      "        for (var i=(songlist.length-1); i>=0; i--) {\n",
      "            res += '<div class=\"listalbum-item\"><a href=\"'+songlist[i].h+'\" target=\"_blank\"'+songlist[i].link_class +'>'+songlist[i].s+''+songlist[i].c+'</a>'+(songlist[i].a==\"\" ? '' : ' <div class=\"comment\">('+songlist[i].a+')</div>')+'</div>';\n",
      "        }\n",
      "    }else{\n",
      "        el.setAttribute(sortprop,'1');\n",
      "        el_glyph.removeClass('glyphicon-sort-by-alphabet-alt');\n",
      "        el_glyph.addClass('glyphicon-sort-by-alphabet');\n",
      "        for (var i=0; i<songlist.length; i++) {\n",
      "            res += '<div class=\"listalbum-item\"><a href=\"'+songlist[i].h+'\" target=\"_blank\"'+songlist[i].link_class +'>'+songlist[i].s+''+songlist[i].c+'</a>'+(songlist[i].a==\"\" ? '' : ' <div class=\"comment\">('+songlist[i].a+')</div>')+'</div>';\n",
      "        }\n",
      "    }\n",
      "    $('#listAlbum').html(res);\n",
      "    $('#listAlbum').css('padding-top','15px');\n",
      "});\n",
      "\n",
      "$('#az_sort_album').on('click',function(event){\n",
      "    var sortprop='data-az-album-sort';\n",
      "    var el = event.currentTarget;\n",
      "    var el_glyph = $(el).children('span.glyphicon');\n",
      "    var res='';\n",
      "    if(el.getAttribute(sortprop)){\n",
      "        el.setAttribute(sortprop,'');\n",
      "        el_glyph.removeClass('glyphicon-sort-by-order');\n",
      "        el_glyph.addClass('glyphicon-sort-by-order-alt');\n",
      "        for (var i=(albumlist.length-1); i>=0; i--) {\n",
      "            res += albumlist[i];\n",
      "        }\n",
      "    }else{\n",
      "        el.setAttribute(sortprop,'1');\n",
      "        el_glyph.removeClass('glyphicon-sort-by-order-alt');\n",
      "        el_glyph.addClass('glyphicon-sort-by-order');\n",
      "        for (var i=0; i<albumlist.length; i++) {\n",
      "            res += albumlist[i];\n",
      "        }\n",
      "    }\n",
      "    res += albumlist_others;\n",
      "    $('#listAlbum').html(res);\n",
      "    $('#listAlbum').css('padding-top','0');\n",
      "});\n",
      "\n",
      "});\n",
      "//-->\n",
      "</script>\n"
     ]
    },
    {
     "name": "stderr",
     "output_type": "stream",
     "text": [
      "C:\\Users\\dell\\AppData\\Local\\Temp\\ipykernel_6768\\2767416256.py:2: DeprecationWarning: The 'text' argument to find()-type methods is deprecated. Use 'string' instead.\n",
      "  scriptFinder = soup.find('script', text=re.compile(r'var songlist'))\n"
     ]
    }
   ],
   "source": [
    "content = r.text\n",
    "scriptFinder = soup.find('script', text=re.compile(r'var songlist'))\n",
    "print(scriptFinder)"
   ]
  },
  {
   "cell_type": "code",
   "execution_count": 7,
   "metadata": {},
   "outputs": [
    {
     "name": "stdout",
     "output_type": "stream",
     "text": [
      "None\n"
     ]
    }
   ],
   "source": [
    "songlist = re.search(r'var songlist\\s*=\\s*(\\[\\s*{.*?}\\s*\\]);', scriptFinder.string)\n",
    "\n",
    "print(songlist)"
   ]
  },
  {
   "cell_type": "code",
   "execution_count": 8,
   "metadata": {},
   "outputs": [],
   "source": [
    "singers = [\"DongAbay\",\"BayaniAgbayani\",\"JoeyAlbert\",\"BarbieAlmalbis\",\"Amapola\",\"CynthiaAlexander\",\"FreddieAguilar\",\"HajjiAlejandro\",\"RachelAlejandro\",\"JoeyAyala\",\"KylineAlcantara\",\"OgieAlcasid\",\"DelyAtay-Atayan\",\"DingdongAvanzado\",\"CarolBanawa\",\"EdwardBarber\",\"BayangBarrios\",\"CarlosBalcells\",\"Bassilyo\",\"HeberBartolome\",\"JimmyBondoc\",\"JovitBaldivino\",\"ChristianBautista\",\"Beabadoobee\",\"ZildBenitez\",\"MarkBautista\",\"JanineBerdin\",\"Blakdyak\",\"RicoBlanco\",\"AlisahBonaobra\",\"AndreaBrillantes\",\"ElyBuendia\",\"NoelCabangon\",\"LitoCamo\",\"RyanCayabyab\",\"BillyCrawford\",\"JohnCadeliña\",\"JoseMariChan\",\"KimChiu\",\"KeanCipriano\",\"SamConcepcion\",\"PilitaCorrales\",\"TeddyCorpuz\",\"RoelCortez\",\"YengConstantino\",\"DonnaCruz\",\"RadhaCuadrado\",\"SharonCuneta\",\"AnneCurtis\",\"ClairedelaFuente\",\"GlaizadeCastro\",\"DiannedelaFuente\",\"DingdongDantes\",\"KarinaConstantinoDavid\",\"JMdeGuzman\",\"KlarissedeGuzman\",\"Mrld\",\"MoiraDelaTorre\",\"JoeydeLeon\",\"KissesDelavin\",\"EnchongDee\",\"LourddeVeyra\",\"FrancineDiaz\",\"ElaineDuran\",\"JasonDy\",\"AndrewE.\",\"KyleEcharri\",\"MaymayEntrata\",\"BituinEscalante\",\"DarrenEspanto\",\"BrenanEspartinez\",\"KarlaEstrada\",\"HeartEvangelista\",\"SethFedelin\",\"PopsFernandez\",\"JurisFernandez\",\"Florante\",\"RoseFostanes\",\"ViceGanda\",\"MaricrisGarcia\",\"TootsieGuevara\",\"JannoGibbs\",\"EnriqueGil\",\"NikkiGil\",\"RachelleAnnGo\",\"SarahGeronimo\",\"KingGirado\",\"AlexGonzaga\",\"ToniGonzaga\",\"GaryGranada\",\"CatrionaGray\",\"MikeHanopol\",\"SolennHeussaff\",\"AgotIsidro\",\"RamonJacinto\",\"Jaya\",\"RJJimenez\",\"JingHidalgoSantos\",\"Karylle\",\"AngelaKen\",\"Kyla\",\"YasmienKurdi\",\"JuanKarlosLabajo\",\"RaymondLauchengco\",\"KrisLawrence\",\"KuhLedesma\",\"CelesteLegaspi\",\"RonnieLiang\",\"XianLim\",\"NadineLustre\",\"ChitoMiranda\",\"JedMadela\",\"ElmoMagalona\",\"FrancisMagalona\",\"BambooManalac\",\"JennylynMercado\",\"GianMagdangal\",\"JolinaMagdangal\",\"MichaelPangilinan\",\"MaineMendoza\",\"SamMilby\",\"LaniMisalucha\",\"VinaMorales\",\"Morissette\",\"KitchieNadal\",\"RoselleNava\",\"SittiNavarro\",\"VhongNavarro\",\"ArthurNery\",\"MartinNievera\",\"Nina\",\"GraceNono\",\"PaoloOnesa\",\"DarylOng\",\"DanielPadilla\",\"KyliePadilla\",\"ZsaZsaPadilla\",\"MannyPacquiao\",\"InigoPascual\",\"PioloPascual\",\"JettPangan\",\"ImeldaPapin\",\"EddiePeregrina\",\"ArnelPineda\",\"LoviPoe\",\"Pokwang\",\"MarcelitoPomoy\",\"RichardPoon\",\"ChickoyPura\",\"YassiPressman\",\"RicoJ.Puno\",\"MykPerez\",\"OdetteQuesada\",\"AngelineQuinto\",\"ZiaQuizon\",\"JayR\",\"KhalilRamos\",\"JohnRaymundo\",\"AprilBoyRegino\",\"SherynRegis\",\"JamesReid\",\"WillieRevillame\",\"ManilynReynes\",\"AldenRichards\",\"ArielRivera\",\"JamieRivera\",\"MarianRivera\",\"OliviaRodrigo\",\"WilbertRoss\",\"KarlRoy\",\"MyraRuaro\",\"SarahGeronimo\",\"LeaSalonga\",\"Unique\",\"JanellaSalvador\",\"MajaSalvador\",\"Sampaguita\",\"JulieAnneSanJose\",\"JoshSantana\",\"RandySantiago\",\"AicelleSantos\",\"ErikSantos\",\"GeraldSantos\",\"JudyAnnSantos\",\"VehneeSaturno\",\"AizaSeguerra\",\"VicSotto\",\"MarcoSison\",\"Jay-RSiaboc\",\"PepeSmith\",\"MaxSurban\",\"KZTandingan\",\"DanielTagibao\",\"IvyViolan\",\"MichaelV\",\"RegineVelasquez\",\"NikkiValdez\",\"GaryValenciano\",\"ReyValera\",\"Viktoria\",\"JessicaVillarubin\",\"YoyoyVillame\",\"CrisVillonco\",\"JonaViray\",\"KatrinaVelarde\",\"VictorWood\",\"RichardYap\",\"MitoyYonting\",\"JakeZyrus\",\"JessaZaragoza\"]\n",
    "#singers2 = [\"DongAbay\",\"BayaniAgbayani\",\"JoeyAlbert\",\"BarbieAlmalbis\",\"Amapola\",\"CynthiaAlexander\",\"FreddieAguilar\"]\n",
    "singers2 = [\"DongAbay\"]\n",
    "singer_codes = []\n",
    "\n",
    "for x in singers2:\n",
    "    singer_codes.append(x.lower()) "
   ]
  },
  {
   "cell_type": "code",
   "execution_count": 17,
   "metadata": {},
   "outputs": [
    {
     "name": "stdout",
     "output_type": "stream",
     "text": [
      "['/lyrics/dongabay/espasyo.html', '/lyrics/dongabay/akrostik.html', '/lyrics/dongabay/abaaba.html', '/lyrics/dongabay/perpekto.html', '/lyrics/dongabay/kukote.html', '/lyrics/dongabay/awitngkambing.html', '/lyrics/dongabay/tuyo.html', '/lyrics/dongabay/mateosingko.html', '/lyrics/dongabay/dyad.html', '/lyrics/dongabay/bombardment.html', '/lyrics/dongabay/aybuhay.html', '/lyrics/dongabay/segundo.html', '/lyrics/dongabay/solb.html', '/lyrics/dongabay/wwiii.html']\n"
     ]
    }
   ],
   "source": [
    "import time\n",
    "\n",
    "singer_webpages = []\n",
    "count = 0\n",
    "\n",
    "\n",
    "for x in singer_codes:\n",
    "    response = requests.get('https://www.azlyrics.com/' + singer_codes[count][0] + '/' + x + '.html')\n",
    "    \n",
    "    if response.status_code == 200:\n",
    "        singer_webpages.append(response)\n",
    "        \n",
    "    count += 1\n",
    "    time.sleep(0.2)\n",
    "\n",
    "count = 0\n",
    "songlist = []\n",
    "\n",
    "for x in singer_webpages:\n",
    "    all_a_tags = BeautifulSoup(x.text, 'html.parser').find_all('a', target=\"_blank\")\n",
    "    filtered_a_tags = [a for a in all_a_tags if a['href'].startswith(\"/lyrics/\" + singer_codes[count] + \"/\")]\n",
    "\n",
    "    songlist = [a['href'] for a in filtered_a_tags]\n",
    "\n",
    "print(songlist)"
   ]
  }
 ],
 "metadata": {
  "kernelspec": {
   "display_name": "Python 3",
   "language": "python",
   "name": "python3"
  },
  "language_info": {
   "codemirror_mode": {
    "name": "ipython",
    "version": 3
   },
   "file_extension": ".py",
   "mimetype": "text/x-python",
   "name": "python",
   "nbconvert_exporter": "python",
   "pygments_lexer": "ipython3",
   "version": "3.12.4"
  }
 },
 "nbformat": 4,
 "nbformat_minor": 2
}

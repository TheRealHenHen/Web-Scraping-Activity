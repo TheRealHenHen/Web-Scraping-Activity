{
 "cells": [
  {
   "cell_type": "markdown",
   "metadata": {},
   "source": [
    "Timestamp: 6/27/2024 4:04 PM"
   ]
  },
  {
   "cell_type": "markdown",
   "metadata": {},
   "source": [
    "# *Web Scraping OPM Song Lyrics*"
   ]
  },
  {
   "cell_type": "markdown",
   "metadata": {},
   "source": [
    " **Important**\n",
    "\n",
    "The activity uses a [website](https://www.azlyrics.com/) for the list of OPM songs and singers, which may not contain all OPM songs or artists. "
   ]
  },
  {
   "cell_type": "code",
   "execution_count": 73,
   "metadata": {},
   "outputs": [],
   "source": [
    "from bs4 import BeautifulSoup\n",
    "from collections import Counter\n",
    "import bs4\n",
    "import matplotlib\n",
    "import matplotlib.pyplot as plt\n",
    "import os\n",
    "import pandas as pd\n",
    "import random as rd\n",
    "import requests\n",
    "import re\n",
    "import seaborn as sns\n",
    "import time"
   ]
  },
  {
   "cell_type": "code",
   "execution_count": 74,
   "metadata": {},
   "outputs": [
    {
     "name": "stdout",
     "output_type": "stream",
     "text": [
      "BeautifulSoup4: 4.12.3\n",
      "Matplotlib: 3.9.0\n",
      "Pandas: 2.2.2\n",
      "Requests: 2.32.3\n",
      "RegEx: 2.2.1\n",
      "Seaborn: 0.13.2\n"
     ]
    }
   ],
   "source": [
    "print(\"BeautifulSoup4:\", bs4.__version__)\n",
    "print(\"Matplotlib:\", matplotlib.__version__)\n",
    "print(\"Pandas:\", pd.__version__)\n",
    "print(\"Requests:\", requests.__version__)\n",
    "print(\"RegEx:\", re.__version__)\n",
    "print(\"Seaborn:\", sns.__version__)"
   ]
  },
  {
   "cell_type": "markdown",
   "metadata": {},
   "source": [
    "# Preliminaries"
   ]
  },
  {
   "cell_type": "markdown",
   "metadata": {},
   "source": [
    "## **Dataset Description**"
   ]
  },
  {
   "cell_type": "markdown",
   "metadata": {},
   "source": [
    "The song and singer data was extracted from [this](https://www.azlyrics.com/) website, which contains lyrics for each song of a specified artist.\n",
    "\n",
    "To isolate the data to include only OPM songs, a list of Filipino singers was taken from [this](https://en.wikipedia.org/wiki/List_of_Filipino_singers) website."
   ]
  },
  {
   "cell_type": "code",
   "execution_count": 75,
   "metadata": {},
   "outputs": [
    {
     "name": "stdout",
     "output_type": "stream",
     "text": [
      "['dongabay', 'bayaniagbayani', 'joeyalbert', 'barbiealmalbis', 'amapola', 'cynthiaalexander', 'freddieaguilar', 'hajjialejandro', 'rachelalejandro', 'joeyayala', 'kylinealcantara', 'ogiealcasid', 'delyatay-atayan', 'dingdongavanzado', 'carolbanawa', 'edwardbarber', 'bayangbarrios', 'carlosbalcells', 'bassilyo', 'heberbartolome', 'jimmybondoc', 'jovitbaldivino', 'christianbautista', 'beabadoobee', 'zildbenitez', 'markbautista', 'janineberdin', 'blakdyak', 'ricoblanco', 'alisahbonaobra', 'andreabrillantes', 'elybuendia', 'noelcabangon', 'litocamo', 'ryancayabyab', 'billycrawford', 'johncadeliña', 'josemarichan', 'kimchiu', 'keancipriano', 'samconcepcion', 'pilitacorrales', 'teddycorpuz', 'roelcortez', 'yengconstantino', 'donnacruz', 'radhacuadrado', 'sharoncuneta', 'annecurtis', 'clairedelafuente', 'glaizadecastro', 'diannedelafuente', 'dingdongdantes', 'karinaconstantinodavid', 'jmdeguzman', 'klarissedeguzman', 'mrld', 'moiradelatorre', 'joeydeleon', 'kissesdelavin', 'enchongdee', 'lourddeveyra', 'francinediaz', 'elaineduran', 'jasondy', 'andrewe.', 'kyleecharri', 'maymayentrata', 'bituinescalante', 'darrenespanto', 'brenanespartinez', 'karlaestrada', 'heartevangelista', 'sethfedelin', 'popsfernandez', 'jurisfernandez', 'florante', 'rosefostanes', 'viceganda', 'maricrisgarcia', 'tootsieguevara', 'jannogibbs', 'enriquegil', 'nikkigil', 'rachelleanngo', 'sarahgeronimo', 'kinggirado', 'alexgonzaga', 'tonigonzaga', 'garygranada', 'catrionagray', 'mikehanopol', 'solennheussaff', 'agotisidro', 'ramonjacinto', 'jaya', 'rjjimenez', 'jinghidalgosantos', 'karylle', 'angelaken', 'kyla', 'yasmienkurdi', 'juankarloslabajo', 'raymondlauchengco', 'krislawrence', 'kuhledesma', 'celestelegaspi', 'ronnieliang', 'xianlim', 'nadinelustre', 'chitomiranda', 'jedmadela', 'elmomagalona', 'francismagalona', 'bamboomanalac', 'jennylynmercado', 'gianmagdangal', 'jolinamagdangal', 'michaelpangilinan', 'mainemendoza', 'sammilby', 'lanimisalucha', 'vinamorales', 'morissette', 'kitchienadal', 'rosellenava', 'sittinavarro', 'vhongnavarro', 'arthurnery', 'martinnievera', 'nina', 'gracenono', 'paoloonesa', 'darylong', 'danielpadilla', 'kyliepadilla', 'zsazsapadilla', 'mannypacquiao', 'inigopascual', 'piolopascual', 'jettpangan', 'imeldapapin', 'eddieperegrina', 'arnelpineda', 'lovipoe', 'pokwang', 'marcelitopomoy', 'richardpoon', 'chickoypura', 'yassipressman', 'ricoj.puno', 'mykperez', 'odettequesada', 'angelinequinto', 'ziaquizon', 'jayr', 'khalilramos', 'johnraymundo', 'aprilboyregino', 'sherynregis', 'jamesreid', 'willierevillame', 'manilynreynes', 'aldenrichards', 'arielrivera', 'jamierivera', 'marianrivera', 'oliviarodrigo', 'wilbertross', 'karlroy', 'myraruaro', 'sarahgeronimo', 'leasalonga', 'unique', 'janellasalvador', 'majasalvador', 'sampaguita', 'julieannesanjose', 'joshsantana', 'randysantiago', 'aicellesantos', 'eriksantos', 'geraldsantos', 'judyannsantos', 'vehneesaturno', 'aizaseguerra', 'vicsotto', 'marcosison', 'jay-rsiaboc', 'pepesmith', 'maxsurban', 'kztandingan', 'danieltagibao', 'ivyviolan', 'michaelv', 'reginevelasquez', 'nikkivaldez', 'garyvalenciano', 'reyvalera', 'viktoria', 'jessicavillarubin', 'yoyoyvillame', 'crisvillonco', 'jonaviray', 'katrinavelarde', 'victorwood', 'richardyap', 'mitoyyonting', 'jakezyrus', 'jessazaragoza']\n"
     ]
    }
   ],
   "source": [
    "singers = [\"Dong Abay\", \"Bayani Agbayani\", \"Joey Albert\", \"Barbie Almalbis\", \"Amapola\", \"Cynthia Alexander\", \"Freddie Aguilar\", \"Hajji Alejandro\", \"Rachel Alejandro\", \"Joey Ayala\", \"Kyline Alcantara\", \"Ogie Alcasid\", \"Dely Atay-Atayan\", \"Dingdong Avanzado\", \"Carol Banawa\", \"Edward Barber\", \"Bayang Barrios\", \"Carlos Balcells\", \"Bassilyo\", \"Heber Bartolome\", \"Jimmy Bondoc\", \"Jovit Baldivino\", \"Christian Bautista\", \"Beabadoobee\", \"Zild Benitez\", \"Mark Bautista\", \"Janine Berdin\", \"Blakdyak\", \"Rico Blanco\", \"Alisah Bonaobra\", \"Andrea Brillantes\", \"Ely Buendia\", \"Noel Cabangon\", \"Lito Camo\", \"Ryan Cayabyab\", \"Billy Crawford\", \"John Cadeliña\", \"Jose Mari Chan\", \"Kim Chiu\", \"Kean Cipriano\", \"Sam Concepcion\", \"Pilita Corrales\", \"Teddy Corpuz\", \"Roel Cortez\", \"Yeng Constantino\", \"Donna Cruz\", \"Radha Cuadrado\", \"Sharon Cuneta\", \"Anne Curtis\", \"Claire de la Fuente\", \"Glaiza de Castro\", \"Dianne dela Fuente\", \"Dingdong Dantes\", \"Karina Constantino David\", \"JM de Guzman\", \"Klarisse de Guzman\", \"Mrld\", \"Moira Dela Torre\", \"Joey de Leon\", \"Kisses Delavin\", \"Enchong Dee\", \"Lourd de Veyra\", \"Francine Diaz\", \"Elaine Duran\", \"Jason Dy\", \"Andrew E.\", \"Kyle Echarri\", \"Maymay Entrata\", \"Bituin Escalante\", \"Darren Espanto\", \"Brenan Espartinez\", \"Karla Estrada\", \"Heart Evangelista\", \"Seth Fedelin\", \"Pops Fernandez\", \"Juris Fernandez\", \"Florante\", \"Rose Fostanes\", \"Vice Ganda\", \"Maricris Garcia\", \"Tootsie Guevara\", \"Janno Gibbs\", \"Enrique Gil\", \"Nikki Gil\", \"Rachelle Ann Go\", \"Sarah Geronimo\", \"King Girado\", \"Alex Gonzaga\", \"Toni Gonzaga\", \"Gary Granada\", \"Catriona Gray\", \"Mike Hanopol\", \"Solenn Heussaff\", \"Agot Isidro\", \"Ramon Jacinto\", \"Jaya\", \"RJ Jimenez\", \"Jing Hidalgo Santos\", \"Karylle\", \"Angela Ken\", \"Kyla\", \"Yasmien Kurdi\", \"Juan Karlos Labajo\", \"Raymond Lauchengco\", \"Kris Lawrence\", \"Kuh Ledesma\", \"Celeste Legaspi\", \"Ronnie Liang\", \"Xian Lim\", \"Nadine Lustre\", \"Chito Miranda\", \"Jed Madela\", \"Elmo Magalona\", \"Francis Magalona\", \"Bamboo Manalac\", \"Jennylyn Mercado\", \"Gian Magdangal\", \"Jolina Magdangal\", \"Michael Pangilinan\", \"Maine Mendoza\", \"Sam Milby\", \"Lani Misalucha\", \"Vina Morales\", \"Morissette\", \"Kitchie Nadal\", \"Roselle Nava\", \"Sitti Navarro\", \"Vhong Navarro\", \"Arthur Nery\", \"Martin Nievera\", \"Nina\", \"Grace Nono\", \"Paolo Onesa\", \"Daryl Ong\", \"Daniel Padilla\", \"Kylie Padilla\", \"Zsa Zsa Padilla\", \"Manny Pacquiao\", \"Inigo Pascual\", \"Piolo Pascual\", \"Jett Pangan\", \"Imelda Papin\", \"Eddie Peregrina\", \"Arnel Pineda\", \"Lovi Poe\", \"Pokwang\", \"Marcelito Pomoy\", \"Richard Poon\", \"Chickoy Pura\", \"Yassi Pressman\", \"Rico J. Puno\", \"Myk Perez\", \"Odette Quesada\", \"Angeline Quinto\", \"Zia Quizon\", \"Jay R\", \"Khalil Ramos\", \"John Raymundo\", \"April Boy Regino\", \"Sheryn Regis\", \"James Reid\", \"Willie Revillame\", \"Manilyn Reynes\", \"Alden Richards\", \"Ariel Rivera\", \"Jamie Rivera\", \"Marian Rivera\", \"Olivia Rodrigo\", \"Wilbert Ross\", \"Karl Roy\", \"Myra Ruaro\", \"Sarah Geronimo\", \"Lea Salonga\", \"Unique\", \"Janella Salvador\", \"Maja Salvador\", \"Sampaguita\", \"Julie Anne San Jose\", \"Josh Santana\", \"Randy Santiago\", \"Aicelle Santos\", \"Erik Santos\", \"Gerald Santos\", \"Judy Ann Santos\", \"Vehnee Saturno\", \"Aiza Seguerra\", \"Vic Sotto\", \"Marco Sison\", \"Jay-R Siaboc\", \"Pepe Smith\", \"Max Surban\", \"KZ Tandingan\", \"Daniel Tagibao\", \"Ivy Violan\", \"Michael V\", \"Regine Velasquez\", \"Nikki Valdez\", \"Gary Valenciano\", \"Rey Valera\", \"Viktoria\", \"Jessica Villarubin\", \"Yoyoy Villame\", \"Cris Villonco\", \"Jona Viray\", \"Katrina Velarde\", \"Victor Wood\", \"Richard Yap\", \"Mitoy Yonting\", \"Jake Zyrus\", \"Jessa Zaragoza\"]\n",
    "\n",
    "singer_urls = []\n",
    "\n",
    "# Transforms the singer's names into codes that can be found in the website\n",
    "for singer in singers:\n",
    "    singer_urls.append(singer.lower().replace(\" \", \"\")) \n",
    "\n",
    "print(singer_urls)"
   ]
  },
  {
   "cell_type": "markdown",
   "metadata": {},
   "source": [
    "## **Variables**"
   ]
  },
  {
   "cell_type": "markdown",
   "metadata": {},
   "source": [
    "Here are the list of variables that would be used"
   ]
  },
  {
   "cell_type": "code",
   "execution_count": 76,
   "metadata": {},
   "outputs": [],
   "source": [
    "singers_that_have_webpages = []\n",
    "singers_that_have_webpages_from_file = []\n",
    "webpages_that_exist = []\n",
    "all_song_links = []\n",
    "all_song_titles = []\n",
    "all_song_lyrics = []\n",
    "all_words = []"
   ]
  },
  {
   "cell_type": "markdown",
   "metadata": {},
   "source": [
    "# Data Extraction"
   ]
  },
  {
   "cell_type": "markdown",
   "metadata": {},
   "source": [
    "## **Webpage Checking**"
   ]
  },
  {
   "cell_type": "markdown",
   "metadata": {},
   "source": [
    "First, we check if a webpage exists for each singer.\n",
    "\n",
    "If a page does not exist for a singer, we discard the singer."
   ]
  },
  {
   "cell_type": "code",
   "execution_count": 77,
   "metadata": {},
   "outputs": [
    {
     "ename": "KeyboardInterrupt",
     "evalue": "",
     "output_type": "error",
     "traceback": [
      "\u001b[1;31m---------------------------------------------------------------------------\u001b[0m",
      "\u001b[1;31mKeyboardInterrupt\u001b[0m                         Traceback (most recent call last)",
      "Cell \u001b[1;32mIn[77], line 11\u001b[0m\n\u001b[0;32m      8\u001b[0m         webpages_that_exist\u001b[38;5;241m.\u001b[39mappend(response)\n\u001b[0;32m      9\u001b[0m         singers_that_have_webpages\u001b[38;5;241m.\u001b[39mappend(singers[singer_url_number])\n\u001b[1;32m---> 11\u001b[0m     \u001b[43mtime\u001b[49m\u001b[38;5;241;43m.\u001b[39;49m\u001b[43msleep\u001b[49m\u001b[43m(\u001b[49m\u001b[43mrd\u001b[49m\u001b[38;5;241;43m.\u001b[39;49m\u001b[43mrandint\u001b[49m\u001b[43m(\u001b[49m\u001b[38;5;241;43m5\u001b[39;49m\u001b[43m,\u001b[49m\u001b[43m \u001b[49m\u001b[38;5;241;43m10\u001b[39;49m\u001b[43m)\u001b[49m\u001b[43m)\u001b[49m\n\u001b[0;32m     13\u001b[0m \u001b[38;5;28mprint\u001b[39m(\u001b[38;5;124m\"\u001b[39m\u001b[38;5;124mSingers with webpages:\u001b[39m\u001b[38;5;124m\"\u001b[39m, singers_that_have_webpages)\n",
      "\u001b[1;31mKeyboardInterrupt\u001b[0m: "
     ]
    }
   ],
   "source": [
    "for singer_url_number in range(len(singers)):\n",
    "\n",
    "    # Gets the webpage with the singer codes\n",
    "    response = requests.get('https://www.azlyrics.com/' + singer_urls[singer_url_number][0] + '/' + singer_urls[singer_url_number] + '.html')\n",
    "    \n",
    "    # Removes singers that do not have webpages\n",
    "    if response.status_code == 200:\n",
    "        webpages_that_exist.append(response)\n",
    "        singers_that_have_webpages.append(singers[singer_url_number])\n",
    "        \n",
    "    time.sleep(rd.randint(5, 10))\n",
    "\n",
    "print(\"Singers with webpages:\", singers_that_have_webpages)\n"
   ]
  },
  {
   "cell_type": "markdown",
   "metadata": {},
   "source": [
    "## **Songs URL Extraction**"
   ]
  },
  {
   "cell_type": "markdown",
   "metadata": {},
   "source": [
    "Each singer's webpage was opened and checked for \"a\" tags.\n",
    "\n",
    "Tags that contained the *href* attribute with a value that had a prefix of \"/lyrics/\" were then isolated to get the url for the song lyrics."
   ]
  },
  {
   "cell_type": "code",
   "execution_count": null,
   "metadata": {},
   "outputs": [
    {
     "name": "stdout",
     "output_type": "stream",
     "text": [
      "Links for each song: [['/lyrics/dongabay/espasyo.html', '/lyrics/dongabay/akrostik.html', '/lyrics/dongabay/abaaba.html', '/lyrics/dongabay/perpekto.html', '/lyrics/dongabay/kukote.html', '/lyrics/dongabay/awitngkambing.html', '/lyrics/dongabay/tuyo.html', '/lyrics/dongabay/mateosingko.html', '/lyrics/dongabay/dyad.html', '/lyrics/dongabay/bombardment.html', '/lyrics/dongabay/aybuhay.html', '/lyrics/dongabay/segundo.html', '/lyrics/dongabay/solb.html', '/lyrics/dongabay/wwiii.html'], ['/lyrics/jakezyrus/hiling.html', '/lyrics/jakezyrus/bagyo.html', '/lyrics/jakezyrus/illbethere.html', '/lyrics/jakezyrus/dnm.html', '/lyrics/jakezyrus/diamond.html', '/lyrics/jakezyrus/loveevenif.html', '/lyrics/jakezyrus/tapestry.html', '/lyrics/jakezyrus/4life.html', '/lyrics/jakezyrus/4liferemix.html', '/lyrics/jakezyrus/fixme.html', '/lyrics/jakezyrus/missyouinthemoonlight.html']]\n"
     ]
    }
   ],
   "source": [
    "for webpage_count in range(len(webpages_that_exist)):\n",
    "    \n",
    "    # Finds all <a> tags in the singer webpages \n",
    "    all_a_tags = BeautifulSoup(webpages_that_exist[webpage_count].text, 'html.parser').find_all('a', target=\"_blank\")\n",
    "\n",
    "    # Filters the <a> tags to get only the ones with the \"/lyrics/\" prefix \n",
    "    filtered_a_tags = [a for a in all_a_tags if a['href'].startswith(\"/lyrics/\")]\n",
    "\n",
    "    # Gets the links for all the song lyrics in the singer webpage\n",
    "    song_link = [a['href'] for a in filtered_a_tags]\n",
    "    all_song_links.append(song_link)\n",
    "\n",
    "print(\"Links for each song:\", all_song_links)"
   ]
  },
  {
   "cell_type": "markdown",
   "metadata": {},
   "source": [
    "## **Storing the Data**"
   ]
  },
  {
   "cell_type": "markdown",
   "metadata": {},
   "source": [
    "A .csv file was created for each songs data to be stored in."
   ]
  },
  {
   "cell_type": "code",
   "execution_count": null,
   "metadata": {},
   "outputs": [],
   "source": [
    "if not os.path.exists(\"all_opm_songs.csv\"):\n",
    "    with open(\"all_opm_songs.csv\", 'w') as file:\n",
    "        pass"
   ]
  },
  {
   "cell_type": "markdown",
   "metadata": {},
   "source": [
    "Multiple .txt files were also created to track data."
   ]
  },
  {
   "cell_type": "code",
   "execution_count": null,
   "metadata": {},
   "outputs": [],
   "source": [
    "if not os.path.exists(\"singers_done.txt\"):\n",
    "    with open(\"singers_done.txt\", 'w') as file:\n",
    "        file.write(\"0\")"
   ]
  },
  {
   "cell_type": "markdown",
   "metadata": {},
   "source": [
    "## **Song Title and Lyrics Extraction**"
   ]
  },
  {
   "cell_type": "markdown",
   "metadata": {},
   "source": [
    "**Each song's titles and lyrics were extracted in 5 steps**\n",
    "\n",
    "\n",
    "1. The url for the webpage containing each song's lyrics was opened and converted into text form.\n",
    "\n",
    "2. For the song's title, all \"h1\" tags were extracted from the webpage\n",
    "\n",
    "3. A RegEx function was used to isolate the text inside quotation marks in the tag to get the title\n",
    "\n",
    "4. For the song lyrics, all \"div\" tags were extracted from the webpage\n",
    "\n",
    "5. All \"div\" tags without any attributes were then isolated, which contain the lyrics\n",
    "\n",
    "After extracting the song data of each singer, the data was then added to the .csv file. "
   ]
  },
  {
   "cell_type": "code",
   "execution_count": null,
   "metadata": {},
   "outputs": [],
   "source": [
    "with open('singers_that_have_webpages.txt', 'r') as file:\n",
    "    singers_that_have_webpages_from_file = eval(file.read())\n",
    "\n",
    "for singer_number in range(len(singers_that_have_webpages)):\n",
    "    \n",
    "    all_songs_data_per_singer = []\n",
    "\n",
    "    with open('singers_done.txt', 'r') as file:\n",
    "        \n",
    "        singer_number = int(file.read())\n",
    "\n",
    "    if len(singers_that_have_webpages) == singer_number:\n",
    "        break\n",
    "\n",
    "    for song in all_song_links[singer_number]:\n",
    "        \n",
    "        song_title = \"\"\n",
    "        song_lyrics = \"\"\n",
    "\n",
    "        # Gets the song lyrics webpage\n",
    "        response = requests.get('https://www.azlyrics.com' + song)\n",
    "        \n",
    "        # Gets all the <div> tags in the webpage\n",
    "        all_div_tags = BeautifulSoup(response.text, 'html.parser').find_all('div')\n",
    "\n",
    "        # Finds all the h1 tags containing song titles\n",
    "        h1_tags = BeautifulSoup(response.text, 'html.parser').find_all('h1')\n",
    "\n",
    "        for song_number in range(len(h1_tags)):\n",
    "            \n",
    "            # Isolates the song title and adds the song titles to a list \n",
    "            pattern = r'[\"\\'](.*?)[\"\\']'\n",
    "            song_title = re.search(pattern, h1_tags[song_number].text).group(1)\n",
    "\n",
    "        # Gets all <div> tags without classes or ids, which are the lyrics\n",
    "        song_lyrics = [div for div in all_div_tags if not div.get(\"class\") and not div.get(\"id\")]\n",
    "\n",
    "        # Makes a dictionary that contains all the information of the song\n",
    "        songs_data = {\"Song\" : song_title, \"Lyrics\" : song_lyrics[0].text, \"Singer\" : singers_that_have_webpages[singer_number]}\n",
    "        all_songs_data_per_singer.append(songs_data)\n",
    "         \n",
    "        time.sleep(rd.randint(5, 10)) \n",
    "    \n",
    "    print(all_songs_data_per_singer, end = \" / \")  \n",
    "\n",
    "    csv_dataframe = pd.DataFrame(all_songs_data_per_singer)\n",
    "    csv_dataframe.to_csv(\"all_opm_songs.csv\", mode='a', index=False, header=True)\n",
    "\n",
    "    with open(\"singers_done.txt\", 'w') as file:\n",
    "\n",
    "        file.write(str(singer_number + 1))\n"
   ]
  },
  {
   "cell_type": "markdown",
   "metadata": {},
   "source": [
    "# *Exploratory Data Analysis*"
   ]
  },
  {
   "cell_type": "markdown",
   "metadata": {},
   "source": [
    "A few questions were made which can be answered by Exploratory Data Analysis"
   ]
  },
  {
   "cell_type": "markdown",
   "metadata": {},
   "source": [
    "1. Which singer has the most songs? Which had the fewest?\n",
    "\n",
    "2. What word was the most frequently used out of all words in all song lyrics?"
   ]
  },
  {
   "cell_type": "code",
   "execution_count": null,
   "metadata": {},
   "outputs": [
    {
     "ename": "EmptyDataError",
     "evalue": "No columns to parse from file",
     "output_type": "error",
     "traceback": [
      "\u001b[1;31m---------------------------------------------------------------------------\u001b[0m",
      "\u001b[1;31mEmptyDataError\u001b[0m                            Traceback (most recent call last)",
      "Cell \u001b[1;32mIn[133], line 1\u001b[0m\n\u001b[1;32m----> 1\u001b[0m dataset \u001b[38;5;241m=\u001b[39m \u001b[43mpd\u001b[49m\u001b[38;5;241;43m.\u001b[39;49m\u001b[43mread_csv\u001b[49m\u001b[43m(\u001b[49m\u001b[38;5;124;43m\"\u001b[39;49m\u001b[38;5;124;43mall_opm_songs.csv\u001b[39;49m\u001b[38;5;124;43m\"\u001b[39;49m\u001b[43m)\u001b[49m\n\u001b[0;32m      2\u001b[0m dataset\u001b[38;5;241m.\u001b[39mhead(\u001b[38;5;241m11\u001b[39m)\n",
      "File \u001b[1;32m~\\AppData\\Local\\Packages\\PythonSoftwareFoundation.Python.3.12_qbz5n2kfra8p0\\LocalCache\\local-packages\\Python312\\site-packages\\pandas\\io\\parsers\\readers.py:1026\u001b[0m, in \u001b[0;36mread_csv\u001b[1;34m(filepath_or_buffer, sep, delimiter, header, names, index_col, usecols, dtype, engine, converters, true_values, false_values, skipinitialspace, skiprows, skipfooter, nrows, na_values, keep_default_na, na_filter, verbose, skip_blank_lines, parse_dates, infer_datetime_format, keep_date_col, date_parser, date_format, dayfirst, cache_dates, iterator, chunksize, compression, thousands, decimal, lineterminator, quotechar, quoting, doublequote, escapechar, comment, encoding, encoding_errors, dialect, on_bad_lines, delim_whitespace, low_memory, memory_map, float_precision, storage_options, dtype_backend)\u001b[0m\n\u001b[0;32m   1013\u001b[0m kwds_defaults \u001b[38;5;241m=\u001b[39m _refine_defaults_read(\n\u001b[0;32m   1014\u001b[0m     dialect,\n\u001b[0;32m   1015\u001b[0m     delimiter,\n\u001b[1;32m   (...)\u001b[0m\n\u001b[0;32m   1022\u001b[0m     dtype_backend\u001b[38;5;241m=\u001b[39mdtype_backend,\n\u001b[0;32m   1023\u001b[0m )\n\u001b[0;32m   1024\u001b[0m kwds\u001b[38;5;241m.\u001b[39mupdate(kwds_defaults)\n\u001b[1;32m-> 1026\u001b[0m \u001b[38;5;28;01mreturn\u001b[39;00m \u001b[43m_read\u001b[49m\u001b[43m(\u001b[49m\u001b[43mfilepath_or_buffer\u001b[49m\u001b[43m,\u001b[49m\u001b[43m \u001b[49m\u001b[43mkwds\u001b[49m\u001b[43m)\u001b[49m\n",
      "File \u001b[1;32m~\\AppData\\Local\\Packages\\PythonSoftwareFoundation.Python.3.12_qbz5n2kfra8p0\\LocalCache\\local-packages\\Python312\\site-packages\\pandas\\io\\parsers\\readers.py:620\u001b[0m, in \u001b[0;36m_read\u001b[1;34m(filepath_or_buffer, kwds)\u001b[0m\n\u001b[0;32m    617\u001b[0m _validate_names(kwds\u001b[38;5;241m.\u001b[39mget(\u001b[38;5;124m\"\u001b[39m\u001b[38;5;124mnames\u001b[39m\u001b[38;5;124m\"\u001b[39m, \u001b[38;5;28;01mNone\u001b[39;00m))\n\u001b[0;32m    619\u001b[0m \u001b[38;5;66;03m# Create the parser.\u001b[39;00m\n\u001b[1;32m--> 620\u001b[0m parser \u001b[38;5;241m=\u001b[39m \u001b[43mTextFileReader\u001b[49m\u001b[43m(\u001b[49m\u001b[43mfilepath_or_buffer\u001b[49m\u001b[43m,\u001b[49m\u001b[43m \u001b[49m\u001b[38;5;241;43m*\u001b[39;49m\u001b[38;5;241;43m*\u001b[39;49m\u001b[43mkwds\u001b[49m\u001b[43m)\u001b[49m\n\u001b[0;32m    622\u001b[0m \u001b[38;5;28;01mif\u001b[39;00m chunksize \u001b[38;5;129;01mor\u001b[39;00m iterator:\n\u001b[0;32m    623\u001b[0m     \u001b[38;5;28;01mreturn\u001b[39;00m parser\n",
      "File \u001b[1;32m~\\AppData\\Local\\Packages\\PythonSoftwareFoundation.Python.3.12_qbz5n2kfra8p0\\LocalCache\\local-packages\\Python312\\site-packages\\pandas\\io\\parsers\\readers.py:1620\u001b[0m, in \u001b[0;36mTextFileReader.__init__\u001b[1;34m(self, f, engine, **kwds)\u001b[0m\n\u001b[0;32m   1617\u001b[0m     \u001b[38;5;28mself\u001b[39m\u001b[38;5;241m.\u001b[39moptions[\u001b[38;5;124m\"\u001b[39m\u001b[38;5;124mhas_index_names\u001b[39m\u001b[38;5;124m\"\u001b[39m] \u001b[38;5;241m=\u001b[39m kwds[\u001b[38;5;124m\"\u001b[39m\u001b[38;5;124mhas_index_names\u001b[39m\u001b[38;5;124m\"\u001b[39m]\n\u001b[0;32m   1619\u001b[0m \u001b[38;5;28mself\u001b[39m\u001b[38;5;241m.\u001b[39mhandles: IOHandles \u001b[38;5;241m|\u001b[39m \u001b[38;5;28;01mNone\u001b[39;00m \u001b[38;5;241m=\u001b[39m \u001b[38;5;28;01mNone\u001b[39;00m\n\u001b[1;32m-> 1620\u001b[0m \u001b[38;5;28mself\u001b[39m\u001b[38;5;241m.\u001b[39m_engine \u001b[38;5;241m=\u001b[39m \u001b[38;5;28;43mself\u001b[39;49m\u001b[38;5;241;43m.\u001b[39;49m\u001b[43m_make_engine\u001b[49m\u001b[43m(\u001b[49m\u001b[43mf\u001b[49m\u001b[43m,\u001b[49m\u001b[43m \u001b[49m\u001b[38;5;28;43mself\u001b[39;49m\u001b[38;5;241;43m.\u001b[39;49m\u001b[43mengine\u001b[49m\u001b[43m)\u001b[49m\n",
      "File \u001b[1;32m~\\AppData\\Local\\Packages\\PythonSoftwareFoundation.Python.3.12_qbz5n2kfra8p0\\LocalCache\\local-packages\\Python312\\site-packages\\pandas\\io\\parsers\\readers.py:1898\u001b[0m, in \u001b[0;36mTextFileReader._make_engine\u001b[1;34m(self, f, engine)\u001b[0m\n\u001b[0;32m   1895\u001b[0m     \u001b[38;5;28;01mraise\u001b[39;00m \u001b[38;5;167;01mValueError\u001b[39;00m(msg)\n\u001b[0;32m   1897\u001b[0m \u001b[38;5;28;01mtry\u001b[39;00m:\n\u001b[1;32m-> 1898\u001b[0m     \u001b[38;5;28;01mreturn\u001b[39;00m \u001b[43mmapping\u001b[49m\u001b[43m[\u001b[49m\u001b[43mengine\u001b[49m\u001b[43m]\u001b[49m\u001b[43m(\u001b[49m\u001b[43mf\u001b[49m\u001b[43m,\u001b[49m\u001b[43m \u001b[49m\u001b[38;5;241;43m*\u001b[39;49m\u001b[38;5;241;43m*\u001b[39;49m\u001b[38;5;28;43mself\u001b[39;49m\u001b[38;5;241;43m.\u001b[39;49m\u001b[43moptions\u001b[49m\u001b[43m)\u001b[49m\n\u001b[0;32m   1899\u001b[0m \u001b[38;5;28;01mexcept\u001b[39;00m \u001b[38;5;167;01mException\u001b[39;00m:\n\u001b[0;32m   1900\u001b[0m     \u001b[38;5;28;01mif\u001b[39;00m \u001b[38;5;28mself\u001b[39m\u001b[38;5;241m.\u001b[39mhandles \u001b[38;5;129;01mis\u001b[39;00m \u001b[38;5;129;01mnot\u001b[39;00m \u001b[38;5;28;01mNone\u001b[39;00m:\n",
      "File \u001b[1;32m~\\AppData\\Local\\Packages\\PythonSoftwareFoundation.Python.3.12_qbz5n2kfra8p0\\LocalCache\\local-packages\\Python312\\site-packages\\pandas\\io\\parsers\\c_parser_wrapper.py:93\u001b[0m, in \u001b[0;36mCParserWrapper.__init__\u001b[1;34m(self, src, **kwds)\u001b[0m\n\u001b[0;32m     90\u001b[0m \u001b[38;5;28;01mif\u001b[39;00m kwds[\u001b[38;5;124m\"\u001b[39m\u001b[38;5;124mdtype_backend\u001b[39m\u001b[38;5;124m\"\u001b[39m] \u001b[38;5;241m==\u001b[39m \u001b[38;5;124m\"\u001b[39m\u001b[38;5;124mpyarrow\u001b[39m\u001b[38;5;124m\"\u001b[39m:\n\u001b[0;32m     91\u001b[0m     \u001b[38;5;66;03m# Fail here loudly instead of in cython after reading\u001b[39;00m\n\u001b[0;32m     92\u001b[0m     import_optional_dependency(\u001b[38;5;124m\"\u001b[39m\u001b[38;5;124mpyarrow\u001b[39m\u001b[38;5;124m\"\u001b[39m)\n\u001b[1;32m---> 93\u001b[0m \u001b[38;5;28mself\u001b[39m\u001b[38;5;241m.\u001b[39m_reader \u001b[38;5;241m=\u001b[39m \u001b[43mparsers\u001b[49m\u001b[38;5;241;43m.\u001b[39;49m\u001b[43mTextReader\u001b[49m\u001b[43m(\u001b[49m\u001b[43msrc\u001b[49m\u001b[43m,\u001b[49m\u001b[43m \u001b[49m\u001b[38;5;241;43m*\u001b[39;49m\u001b[38;5;241;43m*\u001b[39;49m\u001b[43mkwds\u001b[49m\u001b[43m)\u001b[49m\n\u001b[0;32m     95\u001b[0m \u001b[38;5;28mself\u001b[39m\u001b[38;5;241m.\u001b[39munnamed_cols \u001b[38;5;241m=\u001b[39m \u001b[38;5;28mself\u001b[39m\u001b[38;5;241m.\u001b[39m_reader\u001b[38;5;241m.\u001b[39munnamed_cols\n\u001b[0;32m     97\u001b[0m \u001b[38;5;66;03m# error: Cannot determine type of 'names'\u001b[39;00m\n",
      "File \u001b[1;32mparsers.pyx:581\u001b[0m, in \u001b[0;36mpandas._libs.parsers.TextReader.__cinit__\u001b[1;34m()\u001b[0m\n",
      "\u001b[1;31mEmptyDataError\u001b[0m: No columns to parse from file"
     ]
    }
   ],
   "source": [
    "dataset = pd.read_csv(\"all_opm_songs.csv\")\n",
    "dataset.head(11)"
   ]
  },
  {
   "cell_type": "markdown",
   "metadata": {},
   "source": [
    "## **EDA Question 1**"
   ]
  },
  {
   "cell_type": "markdown",
   "metadata": {},
   "source": [
    "Question: Which singer has the most songs? Which had the fewest?"
   ]
  },
  {
   "cell_type": "markdown",
   "metadata": {},
   "source": [
    "To find out which singer has the most songs in the datset, we first count how many songs each singer has."
   ]
  },
  {
   "cell_type": "code",
   "execution_count": null,
   "metadata": {},
   "outputs": [
    {
     "data": {
      "text/plain": [
       "Singer\n",
       "Dong Abay     14\n",
       "Jake Zyrus    11\n",
       "Name: count, dtype: int64"
      ]
     },
     "execution_count": 134,
     "metadata": {},
     "output_type": "execute_result"
    }
   ],
   "source": [
    "# Count the number of songs per singer\n",
    "song_counts = dataset['Singer'].value_counts()\n",
    "song_counts.head(10)"
   ]
  },
  {
   "cell_type": "markdown",
   "metadata": {},
   "source": [
    "Afterwards, to easily compare the values, we use a bar chart to display them."
   ]
  },
  {
   "cell_type": "code",
   "execution_count": null,
   "metadata": {},
   "outputs": [
    {
     "name": "stderr",
     "output_type": "stream",
     "text": [
      "C:\\Users\\dell\\AppData\\Local\\Temp\\ipykernel_15776\\2091048688.py:3: FutureWarning: \n",
      "\n",
      "Passing `palette` without assigning `hue` is deprecated and will be removed in v0.14.0. Assign the `x` variable to `hue` and set `legend=False` for the same effect.\n",
      "\n",
      "  sns.barplot(x = song_counts.index, y = song_counts.values, palette = 'icefire')\n"
     ]
    },
    {
     "data": {
      "image/png": "[encoded data removed]",
      "text/plain": [
       "<Figure size 1000x600 with 1 Axes>"
      ]
     },
     "metadata": {},
     "output_type": "display_data"
    }
   ],
   "source": [
    "# Plot a bar graph\n",
    "plt.figure(figsize=(10, 6))\n",
    "sns.barplot(x = song_counts.index, y = song_counts.values, palette = 'icefire')\n",
    "\n",
    "plt.title('Number of Songs per Singer')\n",
    "plt.xlabel('Singer')\n",
    "plt.ylabel('Number of Songs')\n",
    "plt.xticks(rotation = 45)\n",
    "plt.tight_layout()\n",
    "\n",
    "plt.show()"
   ]
  },
  {
   "cell_type": "markdown",
   "metadata": {},
   "source": [
    "## **EDA Question 2**"
   ]
  },
  {
   "cell_type": "markdown",
   "metadata": {},
   "source": [
    "Question: What word was the most frequently used out of all words in all song lyrics?"
   ]
  },
  {
   "cell_type": "markdown",
   "metadata": {},
   "source": [
    "In order to compare the **frequency** of each word, we will split each song's lyrics into words."
   ]
  },
  {
   "cell_type": "code",
   "execution_count": null,
   "metadata": {},
   "outputs": [
    {
     "name": "stdout",
     "output_type": "stream",
     "text": [
      "['kwento-kwenta', 'kwento-kwenta', 'kwento-kwenta', 'tila', 'kanta', 'kwento-kwenta', 'kwento-kwenta', 'kwento-kwenta', 'binibenta', 'sa', 'paglapag', 'ng', 'sombrero', 'makakapagsulat', 'ako', 'ng', 'alamat', 'bigyan', 'lang', 'ako', 'ng', 'espasyo', 'bigyan', 'lang', 'ako', 'ng', 'espasyo', 'aking', 'kwento', 'ay', 'buhay', 'ko', 'at', 'buhay', 'mo', 'aking', 'kwento', 'buhay', 'pilipino', 'buhay', 'pilipino', 'kwento-kwenta', 'kwento-kwenta', 'kwento-kwenta', 'tila', 'kanta', 'kwento-kwenta', 'kwento-kwenta', 'kwento-kwenta', 'binibenta', 'hindi', 'ka', 'pa', 'kuntento', 'hindi', 'ka', 'pa', 'kuntento', 'hindi', 'ka', 'pa', 'kuntento', 'sa', 'eksperimento', 'akala', \"mo'y\", 'may', 'kwenta', 'pero', 'wala', 'pala', 'hindi', 'ka', 'pa', 'kuntento', 'hindi', 'ka', 'na', 'nasanay', 'hindi', 'ka', 'na', 'nasanay', 'hindi', 'ka', 'na', 'nasanay', 'sa', 'pagbabagong', 'buhay', 'akala', 'mo', 'may', 'kwenta', 'pero', 'wala', 'pala', 'hindi', 'ka', 'na', 'nasanay', 'kailan', 'ka', 'matututo', 'kailan', 'ka', 'matututo', 'kailan', 'ka', 'matututo', 'sa', 'pinaggagagawa', 'mo', 'akala', \"mo'y\", 'may', 'kwenta', 'pero', 'wala', 'pala', 'hindi', 'ka', 'pa', 'kuntento', 'hindi', 'ka', 'na', 'nasanay', 'kailan', 'ka', 'matututo', 'sa', 'paglapag', 'ng', 'sombrero', 'd', '-', 'di', 'ako', 'si', 'bamboo', 'chito', 'parokya', 'rico', 'rivermaya', 'o', '-', 'o', 'kaya', 'naman', 'sina', 'basti', 'kevin', 'roy', 'wency', 'karl', 'roy', 'n', '-', 'noel', 'cabangon', 'chikoy', 'pura', 'pendong', 'joey', 'ayala', 'g', '-', 'gary', 'granada', 'ka', 'freddie', 'mike', 'hanopol', 'ely', 'buendia', 'a', '-', 'at', 'lalong', 'di', 'ako', 'si', 'pepe', 'florante', 'yoyoy', 'villame', 'heber', 'bartolome', 'b', '-', 'bobby', 'balingit', 'binky', 'lampano', 'jack', 'sikat', 'jett', 'pangan', 'jun', 'lopito', 'jess', 'santiago', 'pol', 'galang', 'popong', 'landero', 'a', '-', 'alexander', 'cynthia', 'coritha', 'lolita', 'sampaguita', 'bayang', 'barrios', 'susan', 'fernandez', 'grace', 'nono', 'cooky', 'chua', 'y', '-', 'yan', 'o', 'yan', 'o', 'yan', 'ako', 'ako', 'ay', 'sino', 'ba', 'yan', 'o', 'yan', 'o', 'yan', 'ako', 'ako', 'ay', 'sino', 'ba', 'yan', 'o', 'yan', 'o', 'yan', 'ako', 'ako', 'ay', 'sino', 'ba', 'yan', 'o', 'yan', 'o', 'yan', 'ako', 'ako', 'ay', 'sino', 'ba', 'kasalanan', 'ko', 'kung', 'bakit', 'ka', 'nagkaganyan', 'kasalanan', 'kong', 'aba', 'abang', 'kalagayan', \"ako'y\", 'hindi', 'marunong', 'lumingon', 'sa', 'pinanggalingan', 'kaya', 'walang', 'mararating', 'walang', 'paroroonan', \"ako'y\", 'laging', 'naglalakad', 'nang', 'napakatulin', 'kaya', \"ako'y\", 'matitinik', 'nang', 'napakalalim', 'kasalanan', 'ko', 'kung', 'bakit', 'ka', 'nagkaganyan', 'bakit', 'ka', 'aba', 'aba', 'ang', 'kalagayan', 'kasalanan', 'ko', 'kung', 'bakit', 'ka', 'nagkaganyan', 'kasalanan', 'ko', 'aba', 'abang', 'kalagayan', 'ang', 'kapalaran', \"ko'y\", 'hindi', 'ko', 'hahanapin', \"kaya't\", 'di', 'dudulog', 'lalapit', 'ang', 'talagang', 'sa', 'akin', \"ako'y\", 'hindi', 'naghahangad', 'ng', 'anumang', 'kagitna', 'kaya', 'ni', 'isang', 'salop', 'walang', 'mawawala', 'kasalanan', 'ko', 'kung', 'bakit', 'ka', 'nagkaganyan', 'bakit', 'ka', 'aba', 'aba', 'ang', 'kalagayan', 'kasalanan', 'ko', 'kung', 'bakit', 'ka', 'nagkaganyan', 'kasalanan', 'ko', 'aba', 'abang', 'kalagayan', 'kasalanan', 'ko', 'kung', 'bakit', 'ka', 'nagkaganyan', 'bakit', 'ka', 'aba', 'aba', 'ang', 'kalagayan', 'kasalanan', 'ko', 'kung', 'bakit', 'ka', 'nagkaganyan', 'kasalanan', 'ko', 'aba', 'abang', 'kalagayan', 'ikaw', 'ay', 'nagdaramdam', 'puso', 'ay', 'nagdurugo', 'hindi', 'mo', 'yata', 'alam', 'kung', 'san', 'ka', 'patungo', 'ikaw', 'ay', 'naliligaw', 'isip', 'ay', 'nalilito', 'ayaw', 'mo', 'ng', 'gumalaw', 'hindi', 'ka', 'sigurado', 'ikaw', 'ay', 'napupuwing', 'minsan', 'nabubulagan', 'mata', 'ay', 'nakapiring', 'daan', 'ay', 'kadiliman', 'ikaw', 'ay', 'nadadapa', 'napipilayan', 'din', 'di', 'makapagsalita', 'anung', 'ibig', 'sabihin', 'wala', 'wala', 'namang', 'wala', 'namang', 'perpektong', 'tao', 'ano', 'ba', 'ang', 'epekto', 'kung', 'meron', 'kang', 'depekto', 'ano', 'ba', 'ang', 'epekto', 'kung', 'meron', 'kang', 'depekto', 'ano', 'ba', 'ang', 'epekto', 'kung', 'meron', 'kang', 'depekto', 'ano', 'ba', 'ang', 'epekto', 'kung', 'meron', 'kang', 'depekto', 'ikaw', 'ay', 'nawawala', 'minsan', 'ay', 'nawawalan', 'di', 'ka', 'naniniwala', 'puno', 'ng', 'alinlangan', 'ikaw', 'ay', 'nanliliit', 'ligtas', 'ka', 'ba', 'sa', 'rehas', 'bakit', 'ka', 'nakapiit', 'bakit', 'ka', 'tumatakas', 'ikaw', 'ay', 'natatakot', 'parang', 'walang', 'hangganan', 'ang', 'kirot', 'ng', 'bangungot', 'di', 'mo', 'makalimutan', 'ikaw', 'ay', 'nanlulumo', 'bilang', 'na', 'ba', 'ang', 'araw', 'gusto', 'mo', 'ng', 'sumuko', 'mundo', 'ay', 'nagugunaw', 'wala', 'wala', 'namang', 'wala', 'namang', 'perpektong', 'tao', 'ano', 'ba', 'ang', 'epekto', 'kung', 'meron', 'kang', 'depekto', 'ano', 'ba', 'ang', 'epekto', 'kung', 'meron', 'kang', 'depekto', 'ano', 'ba', 'ang', 'epekto', 'kung', 'meron', 'kang', 'depekto', 'ano', 'ba', 'ang', 'epekto', 'kung', 'meron', 'kang', 'depekto', 'ikaw', 'ay', 'inaalon', 'walang', 'kalaban-laban', 'tuluyang', 'nalulunod', 'tungo', 'sa', 'kalaliman', 'ikaw', 'ay', 'nalulula', 'agad', 'kang', 'nahuhulog', 'babagsak', 'sa', 'lupa', 'at', 'biglang', 'madudurog', 'ikaw', 'ay', 'nagdurusa', 'kaya', 'pa', 'bang', 'tumagal', 'hindi', 'na', 'makahinga', 'lalo', 'pang', 'nasasakal', 'ikaw', 'ay', 'dumadaing', 'dala', 'mo', 'ba', 'ay', 'sumpa', 'para', 'kang', 'ililibing', 'at', 'ipinagluluksa', 'wala', 'wala', 'namang', 'wala', 'namang', 'perpektong', 'tao', 'ano', 'ba', 'ang', 'epekto', 'kung', 'meron', 'kang', 'depekto', 'ano', 'ba', 'ang', 'epekto', 'kung', 'meron', 'kang', 'depekto', 'ano', 'ba', 'ang', 'epekto', 'kung', 'meron', 'kang', 'depekto', 'ano', 'ba', 'ang', 'epekto', 'kung', 'meron', 'kang', 'depekto', 'wala', 'wala', 'namang', 'wala', 'namang', 'perpekto', 'anu', 'ba', 'ang', 'epekto', 'kung', 'meron', 'kang', 'depekto', 'wala', 'namang', 'perpektong', 'tao', 'may', 'araw', 'na', 'o', 'laging', 'gabi', 'sa', 'mata', 'ng', 'aking', 'kukote', 'sa', 'mata', 'ng', 'ating', 'kukote', 'gaano', 'man', 'kadilim', 'magliliwanag', 'pa', 'rin', 'nakikita', 'ba', 'ang', 'bahagharing', 'itim', 'ang', 'buwan', 'na', 'bulok', 'ang', 'basag', 'na', 'bituin', 'naririnig', 'din', 'sa', 'buong', 'papawirin', 'bihag', 'ang', 'kulog', 'kidlat', 'ay', 'alipin', 'may', 'ulap', 'na', 'may', 'gubat', 'may', 'dagat', 'pa', 'sa', 'mata', 'ng', 'aking', 'kukote', 'sa', 'mata', 'ng', 'ating', 'kukote', 'langit', 'ay', 'liliparin', 'kahit', 'ang', 'hangin', 'ay', 'may', 'patalim', 'punong', 'taimtim', 'ay', 'lilim', 'ng', 'lagim', 'pusod', 'ay', 'puntod', 'puso', 'ay', 'balong', 'malalim', 'pagsisid', 'ny', 'hindi', 'pinagsisisihan', 'paligid', 'ay', 'isang', 'panaginip', 'lang', 'umaambon', 'umuulan', 'bumabagyo', 'sa', 'mata', 'ng', 'aking', 'kukote', 'sa', 'mata', 'ng', 'ating', 'kukote', 'umiiyak', 'ang', 'diyos', 'sa', 'halakhak', 'pagkatapos', 'nabasa', 'ka', 'kaya', 'sa', 'patak', 'na', 'bumuhos', 'bumaha', 'ba', 'ng', 'luha', 'sa', 'pagpalakpak', 'ng', 'unos', 'lumubog', 'man', 'ang', 'lupa', 'may', 'ilog', 'parin', 'na', 'aagos', 'malaya', 'ay', 'malawak', 'malaya', 'at', 'di', 'nakagapos', 'sa', 'mata', 'ng', 'ating', 'kukote', 'sa', 'mata', 'ng', 'aking', 'kukote', 'sa', 'mata', 'ng', 'ating', 'kukote', 'sa', 'mata', 'ng', 'aking', 'kukote', 'sa', 'mata', 'ng', 'ating', 'kukote', 'sa', 'mata', 'ng', 'aking', 'kukote', 'sa', 'mata', 'ng', 'ating', 'kukote', 'halikayo', 'magsilapit', 'kahit', 'na', 'po', 'ilang', 'saglit', 'pakinggan', 'nyo', 'itong', 'awit', 'na', 'di', 'na', 'mauulit', 'pero', 'wag', 'pong', 'magagalit', 'sa', 'mga', 'iguguhit', 'ang', 'hagupit', 'na', 'sinapit', 'mapait', 'masakit', 'malupit', 'si', 'juan', 'ay', 'seaman', 'na', 'nagbalik-bayan', 'pagkatapos', 'ng', 'siyam', 'na', 'buwan', 'inabutan', 'sa', 'tahanan', 'matalik', 'na', 'kaibigan', 'katalik', 'ng', 'kanyang', 'asawa', 'naghahalikan', 'pa', 'sila', 'si', 'juan', 'ay', 'napamura', 'sa', 'impyerno', 'kayo', 'magsama', 'di', 'nakapagpigil', 'gigil', 'na', 'gigil', 'walang', 'tigil', 'pinagbabaril', 'sa', 'bandang', 'huli', 'sarili', 'ang', 'kinitil', 'trahehehehehehehehehehehehehdya', 'trahehehehehehehehehehehehehdya', 'halikayo', 'magsilapit', 'kahit', 'na', 'po', 'ilang', 'saglit', 'pakinggan', 'nyo', 'itong', 'awit', 'na', 'di', 'na', 'mauulit', 'pero', 'wag', 'pong', 'magagalit', 'sa', 'mga', 'iguguhit', 'ang', 'hagupit', 'na', 'sinapit', 'mapait', 'masakit', 'malupit', 'si', 'nene', 'ginagahasa', 'mula', 'pagkabata', 'ng', 'ama-amahang', 'siga', 'nung', 'isang', 'gabi', 'pinagtangkaan', 'uli', 'siyang', 'pagsamantalahan', 'ayoko', 'ko', 'na', 'di', 'ko', 'na', 'kaya', 'kaya', 'si', 'nene', 'ay', 'nanlaban', 'hayop', 'na', 'hayok', 'tinaga', 'ng', 'gulok', 'binuhusan', 'ng', 'gas', 'saka', 'sinilaban', 'isa', 'si', 'nene', 'sa', 'nasunog', 'sa', 'looban', 'trahehehehehehehehehehehehehdya', 'trahehehehehehehehehehehehehdya', 'trahehehehehehehehehehehehehdya', 'trahehehehehehehehehehehehehdya', 'trahehehehehehehehehehehehehdya', 'trahehehehehehehehehehehehehdya', 'ok', 'lang', 'kung', 'tuyo', 'na', 'ang', 'buhok', 'tulog', 'ka', 'na', 'kapag', 'inaantok', 'ok', 'lang', 'kung', 'tuyo', 'na', 'ang', 'batok', 'punas', 'pawis', 'para', 'di', 'amoy', 'putok', 'ok', 'lang', 'kung', 'tuyo', 'na', 'ang', 'mata', 'tapos', 'na', 'yatang', 'umiyak', 'di', 'ba', 'ok', 'lang', 'kung', 'tuyo', 'na', 'ang', 'paa', 'di', 'ka', 'na', 'magkakaalipunga', 'pero', 'ano', 'kung', 'tuyo', 'na', 'ang', 'dugo', 'kahit', 'tiyan', 'may', 'di', 'na', 'kukulo', 'ano', 'kung', 'tuyo', 'na', 'ang', 'puso', 'baka', 'maglaho', 'ang', 'pagsuyo', 'dehins', 'ok', 'dehins', 'ok', 'dehins', 'ok', 'dehins', 'ok', 'ok', 'lang', 'kung', 'tuyo', 'na', 'ang', 'laway', 'magmumog', 'ka', 'muna', 'bago', 'magsuklay', 'ok', 'lang', 'kung', 'tuyo', 'ng', 'sinampay', 'may', 'masusuot', 'ka', 'na', 'mamaya', 'sa', 'lamay', 'ok', 'lang', 'kung', 'tuyo', 'na', 'ang', 'sulat', 'ang', 'tinta', 'e', 'di', 'na', 'babakat', 'ok', 'lang', 'kung', 'tuyo', 'na', 'ang', 'sugat', 'wag', 'ka', 'lang', 'magkakapeklat', 'pero', 'ano', 'kung', 'tuyo', 'na', 'ang', 'gripo', \"pa'no\", 'magsesepilyo', 'sa', 'lababo', 'ano', 'kung', 'tuyo', 'na', 'ang', 'poso', \"sa'n\", 'maglalaba', 'ng', 'bra', 'ang', 'lola', 'mo', 'dehins', 'ok', 'dehins', 'ok', 'dehins', 'ok', 'dehins', 'ok', 'ok', 'lang', 'kung', 'tuyo', 'na', 'ang', 'ubas', 'may', 'pulutan', 'na', 'tayong', 'pasas', 'ok', 'lang', 'kung', 'tuyo', 'na', 'ang', 'gatas', 'may', 'palamang', 'keso', 'bukas', 'ok', 'lang', 'kung', 'tuyo', 'na', 'ang', 'baka', 'may', 'kakainin', 'na', 'tayong', 'tapa', 'ok', 'lang', 'kung', 'tuyo', 'na', 'ang', 'buwaya', 'may', 'pabrika', 'ng', 'sinturon', 'at', 'bota', 'pero', 'ano', 'kung', 'tuyo', 'na', 'ang', 'balon', 'aasa', 'ka', 'na', 'lang', 'ba', 'sa', 'ambon', 'ano', 'kung', 'tuyo', 'na', 'ang', 'talon', 'di', 'na', 'mag-eenjoy', 'sa', 'bakasyon', 'ano', 'kung', 'tuyo', 'na', 'ang', 'sapa', 'mamamatay', 'mga', \"butete't\", 'palaka', 'ano', 'kung', 'tuyo', 'na', 'ang', 'lawa', 'luluwa', 'ang', 'mga', 'mata', 'ng', 'mga', 'isda', 'dehins', 'ok', 'dehins', 'ok', 'dehins', 'ok', 'dehins', 'ok', 'ok', 'lang', 'kung', 'tuyo', 'ang', 'semento', 'bawal', 'ju-mingle', 'sa', 'pader', 'na', 'ito', 'ok', 'lang', 'kung', 'tuyo', 'na', 'ang', 'espalto', 'wala', 'na', 'ang', 'swimming', 'pool', 'sa', 'kanto', 'ok', 'lang', 'kung', 'tuyo', 'na', 'ang', 'kable', 'di', 'ka', 'na', 'uli', 'makukuryente', 'ok', 'lang', 'kung', 'tuyo', 'ang', 'kalye', 'walang', 'baha', 'trapik', 'na', 'lang', 'ang', 'dyahe', 'pero', 'ano', 'kung', 'tuyo', 'na', 'ang', 'gubat', 'magugutom', 'tayo', 'nang', 'nakahubad', 'ano', 'kung', 'tuyo', 'na', 'ang', 'dagat', 'sa', 'ibang', 'planeta', 'lumipat', 'ok', 'na', 'ok', 'ok', 'na', 'ok', 'ok', 'na', 'ok', 'ok', 'na', 'ok', 'ok', 'na', 'ok', 'ok', 'na', 'ok', 'ok', 'na', 'ok', 'ok', 'na', 'ok', 'nakakadena', 'si', 'amor', 'nakahawla', 'ang', 'dama', 'de', 'noche', 'walang', 'trabaho', 'bagong', 'layang', 'si', 'ador', 'reklamador', 'kungdi', 'ang', 'magbilang', 'ng', 'poste', 'mahirap', 'maging', 'mahirap', 'mahirap', 'maging', 'mahirap', 'mahirap', 'maging', 'mahirap', 'maging', 'mahirap', 'maging', 'mahirap', 'hahagulgol', 'ang', 'batang', 'kulang', 'sa', 'sustansya', 'malutong', 'na', 'magmumura', 'ang', 'bungangerang', 'ina', 'uumbagan', 'sya', 'ng', 'asawang', 'sugarol', 'na', 'wala', 'namang', 'dalang', 'delehensya', 'mahirap', 'maging', 'mahirap', 'mahirap', 'maging', 'mahirap', 'mahirap', 'maging', 'mahirap', 'maging', 'mahirap', 'maging', 'mahirap', 'mahirap', 'maging', 'mahirap', 'mahirap', 'maging', 'mahirap', 'mahirap', 'maging', 'mahirap', 'maging', 'mahirap', 'maging', 'mahirap', 'sa', 'ngalan', 'ng', 'mga', 'ama', 'at', 'ina', 'kasama', 'ang', 'mga', 'anak', 'nila', 'espirito', 'ng', 'mga', 'santo', 'at', 'santa', 'espirito', 'ng', 'mga', 'santo', 'at', 'santa', 'espirito', 'ng', 'mga', 'santo', 'at', 'santa', 'espirito', 'ng', 'mga', 'santo', 'at', 'santa', 'espirito', 'ng', 'mga', 'santo', 'at', 'santa', 'espirito', 'ng', 'mga', 'santo', 'at', 'santa', 'espirito', 'ng', 'mga', 'santo', 'at', 'santa', 'espirito', 'ng', 'mga', 'santo', 'at', 'santa', 'espirito', 'ng', 'mga', 'santo', 'at', 'santa', 'espirito', 'ng', 'mga', 'santo', 'at', 'santa', 'sa', 'puso', 'at', 'damdamin', 'hindi', 'ka', 'maglalaho', 'lagi', 'kang', 'iisipin', 'kahit', 'nasa', 'malayo', 'wag', 'sanang', 'kalimutan', 'kapag', \"ako'y\", 'wala', 'na', 'na', 'nagkasama', 'minsan', 'sa', 'hirap', 'at', 'ginhawa', 'ako', 'ay', 'nangangarap', 'na', 'lagi', 'kang', 'makita', 'alam', 'ko', 'na', 'mahirap', 'mag-antay', 'ng', 'pag-asa', 'makinig', 'ka', 'sana', 'sa', 'sasabihin', 'ko', 'ikaw', 'ang', 'alaala', 'na', 'maganda', 'ang', 'mundo', 'para', 'para', 'para', 'para', 'para', 'para', 'sa', 'iyo', 'itong', 'kantang', 'ito', 'sana', 'sana', 'sana', 'sana', 'sana', 'sana', 'makarating', 'pa', 'ako', 'sa', 'iyo', 'para', 'para', 'para', 'para', 'para', 'sa', 'iyo', 'ako', 'ay', 'nangangarap', 'na', 'lagi', 'kang', 'makita', 'alam', 'ko', 'na', 'mahirap', 'mag-antay', 'ng', 'pag-asa', 'makinig', 'ka', 'sana', 'sa', 'sasabihin', 'ko', 'ikaw', 'ang', 'alaala', 'na', 'masaya', 'ang', 'mundo', 'para', 'para', 'para', 'para', 'para', 'para', 'sa', 'iyo', 'itong', 'kantang', 'ito', 'sana', 'sana', 'sana', 'sana', 'sana', 'sana', 'makarating', 'pa', 'ako', 'sa', 'iyo', 'para', 'para', 'para', 'para', 'para', 'sa', 'iyo', 'para', 'para', 'para', 'para', 'para', 'para', 'sa', 'iyo', 'itong', 'kantang', 'ito', 'sana', 'sana', 'sana', 'sana', 'sana', 'sana', 'makarating', 'pa', 'ako', 'sa', 'iyo', 'para', 'para', 'para', 'para', 'para', 'para', 'sa', 'iyo', 'itong', 'kantang', 'ito', 'sana', 'sana', 'sana', 'sana', 'sana', 'sana', 'makarating', 'pa', 'ako', 'sa', 'iyo', 'makarating', 'pa', 'ako', 'sa', 'iyo', 'para', 'para', 'para', 'sa', 'iyo', 'shoemart', 'o', 'robinson', 'bench', 'o', 'jockey', 'marlboro', 'o', 'winston', 'adidas', 'o', 'nike', 'smart', 'o', 'globe', 'coke', 'o', 'pepsi', 'tide', 'o', 'surf', 'smb', 'o', 'asia', 'brewery', 'shakeys', 'o', 'pizza', 'hut', 'mcdonalds', 'o', 'jollibee', 'dunkin', 'o', 'mister', 'donut', 'kenny', 'o', 'kfc', 'nissin', 'o', 'lucky', 'me', 'mentos', 'o', 'maxx', 'candy', '555', 'o', 'century', 'jack', 'n', 'jill', 'o', 'oishi', 'red', 'bull', 'o', 'lipovitan', 'nido', 'o', 'alaska', 'datu', 'puti', 'o', 'silver', 'swan', 'purefoods', 'o', 'magnolia', 'nestle', 'o', 'selecta', 'del', 'monte', 'o', 'ufc', 'swift', 'o', 'argentina', 'bokbokbok', 'knorr', 'o', 'maggi', 'joy', 'ultra', 'o', 'axion', 'comfort', 'o', 'downy', 'clusivol', 'o', 'enervon', 'kleenex', 'o', 'softee', 'safeguard', 'o', 'zest', 'green', 'cross', 'o', 'family', 'whisper', 'o', 'modess', 'national', 'o', 'ever', 'ready', 'raid', 'o', 'baygon', 'absolute', 'o', 'wilkins', 'colgate', 'o', 'close', 'up', 'palmolive', 'o', 'pantene', 'pampers', 'o', 'eq', 'eye', 'mo', 'o', 'visine', '8', \"o'clock\", 'o', 'tang', 'milo', 'o', 'ovaltine', 'star', 'o', 'inquirer', 'kodak', 'o', 'fuji', 'metrobank', 'o', 'bpi', 'samsung', 'o', 'sony', 'yamaha', 'o', 'kawasaki', 'caltex', 'o', 'shell', 'toyota', 'o', 'mitsubishi', 'pldt', 'o', 'bayantel', 'abs-cbn', 'o', 'gma', '7', 'abs-cbn', 'o', 'gma', '7', 'abs-cbn', 'o', 'gma', '7', 'abs-cbn', 'o', 'gma', '7', 'charo', 'o', 'mel', 'tiangco', 'bayani', 'o', 'michael', 'v', 'eat', 'bulaga', 'o', 'wowowee', 'myx', 'o', 'mtv', 'martin', 'o', 'gary', 'v', 'christina', 'o', 'britney', 'ate', 'guy', 'o', 'ate', 'vi', 'viva', 'o', 'mother', 'lily', 'gloria', 'o', 'fpj', 'marcos', 'o', 'cory', 'bush', 'o', 'bin', 'laden', 'npa', 'o', 'afp', 'iglesia', 'o', 'katoliko', 'la', 'salle', 'o', 'ateneo', 'tagalog', 'o', 'cebuano', 'english', 'o', 'filipino', 'abs-cbn', 'o', 'gma', '7', 'abs-cbn', 'o', 'gma', '7', 'abs-cbn', 'o', 'gma', '7', 'abs-cbn', 'o', 'gma', '7', 'original', 'o', 'pirated', 'tambay', 'sa', 'tulay', 'ang', 'matandang', 'pilay', 'akbay', 'ang', 'saklay', \"mata'y\", 'matamlay', 'ay', 'buhay', 'ngalay', 'na', 'ngalay', 'kanyang', 'kanang', 'kamay', 'panay', 'ang', 'antay', 'grasyang', 'ibigay', 'ay', 'buhay', 'ay', 'buhay', \"siya'y\", 'parang', 'isang', 'lantang', 'gulay', 'walang', 'humpay', 'sa', 'hanapbuhay', 'ang', 'lagay', 'matirang', 'matibay', 'ang', 'lagay', 'matirang', 'matibay', 'ay', 'buhay', 'laway', 'at', 'kaway', 'awa', 'ang', 'taglay', 'sanay', 'magpatangay', 'ang', 'nanlulupaypay', 'ay', 'buhay', 'sabay', 'ang', 'sakay', 'sa', 'sanlaksang', 'ingay', 'lantay', 'na', 'lumbay', 'latay', 'sa', 'malay', 'ay', 'buhay', 'ay', 'buhay', \"siya'y\", 'parang', 'isang', 'lantang', 'gulay', 'walang', 'humpay', 'sa', 'hanapbuhay', 'ang', 'lagay', 'matirang', 'matibay', 'ang', 'lagay', 'matirang', 'matibay', 'ay', 'buhay', 'ay', 'buhay', \"siya'y\", 'parang', 'isang', 'lantang', 'gulay', 'walang', 'humpay', 'sa', 'hanapbuhay', 'ang', 'lagay', 'matirang', 'matibay', 'ang', 'lagay', 'matirang', 'matibay', 'ay', 'buhay', 'kung', 'sa', 'isang', 'iglap', 'makalimutan', 'ng', 'diyos', 'na', 'ako', 'ay', 'isang', 'manikang', 'basahan', 'at', 'kanyang', 'pagkalooban', 'ng', 'kapirasong', 'buhay', 'hindi', 'ko', 'sasabihin', 'lahat', 'ng', 'iniisip', 'sa', 'halip', 'ay', 'iisipin', 'lahat', 'ng', 'sasabihin', 'itatangi', 'ko', 'ang', 'bawat', 'bagay', 'bagay', 'hindi', 'dahil', 'lamang', 'sa', 'kahalagahan', 'nito', 'kundi', 'sa', 'kung', 'ano', 'ang', 'kahulugang', 'totoo', \"ako'y\", 'matutulog', 'nang', 'kaunti', 'at', 'mas', 'mananaginip', 'mauunawaan', 'na', 'sa', 'bawat', 'minutong', 'pagpikit', 'nawawalan', 'tayo', 'ng', 'animnapung', 'segundo', 'ng', 'liwanag', 'liwanag', 'liwanag', 'liwanag', 'maglalakad', 'ako', 'kung', 'ang', 'iba', 'ay', 'ayaw', 'humakbang', 'mananatiling', 'gising', 'kung', 'ang', 'iba', 'ay', 'maidlip', 'makikinig', 'ako', 'kung', 'may', 'magsasalita', 'kung', 'ako', 'ay', 'may', 'puso', 'isusulat', 'ko', 'ang', 'poot', 'sa', 'yelo', 'at', 'maghihintay', 'sa', 'pagsikat', 'ng', 'araw', 'ang', 'aking', 'luha', 'ang', 'didilig', 'sa', 'rosas', 'sa', 'kanyang', 'imik', 'dadamhin', 'ko', 'ang', 'kirot', 'at', 'ang', 'pulang', 'halik', 'ng', 'kanyang', 'talulot', 'ipababatid', 'sa', 'lahat', 'ng', 'minamahal', 'na', 'minamahal', 'ko', 'silang', 'lahat', 'mabubuhay', 'ako', 'nang', 'nagmamahal', 'sa', 'pag-ibig', 'pag-ibig', 'pag-ibig', 'pag-ibig', 'marami', 'akong', 'natutunan', 'mula', 'sa', 'mga', 'nilalang', 'ngunit', 'ang', 'katotohanan', 'wala', 'itong', 'pakinabang', 'kahit', 'pa', 'ingatan', 'ko', 'sa', 'loob', 'ng', 'maletang', 'ito', 'malungkot', 'ko', 'pa', 'ring', 'lilisanin', 'ang', 'mundo', 'ngayong', 'gabi', 'siya', 'ang', 'may', 'ari', 'ng', 'syudad', 'tulad', 'ng', 'dati', 'parang', 'hari', 'kung', 'maglakad', 'nakapikit', 'ikot', 'pa', 'ang', 'lagalag', 'umaawit', 'sisinghot', 'ang', 'batang', 'banaag', 'high', 'na', 'high', 'sa', 'highway', 'solb', 'na', 'solb', 'sa', 'solvent', 'high', 'na', 'high', 'solb', 'na', 'solb', 'sa', 'highway', 'sa', 'solvent', 'nag', 'iisa', 'napaupo', 'sa', 'bangketa', 'tumatawa', 'dinuduro', 'ang', 'estatwa', 'nagbibilang', 'ng', 'sasakyang', 'nagdadaan', 'nag-aabang', 'kung', 'ano', 'ang', 'wala', 'naman', 'high', 'na', 'high', 'sa', 'highway', 'solb', 'na', 'solb', 'sa', 'solvent', 'high', 'na', 'high', 'solb', 'na', 'solb', 'sa', 'highway', 'sa', 'solvent', 'naghahanap', 'ng', 'pagkain', 'sa', 'basura', 'ang', 'masarap', 'sa', 'paninging', 'tira-tira', 'nakahiga', 'at', 'binabalot', 'ng', 'sakong', 'sira', 'batang', 'gala', 'plastic', 'na', 'supot', 'ang', 'dala', 'bukas', 'ba', 'paggising', 'ko', 'tahimik', 'na', 'walang', 'gulo', 'walang', 'gulo', 'kung', 'kailan', 'ang', 'linaw', 'ko', 'ang', 'labo', 'mo', 'ang', 'labo', 'mo', 'naman', 'mundo', 'ang', 'labo', 'mo', 'naman', 'mundo', 'walang', 'tigil', 'walang', 'tigil', 'walang', 'tigil', 'walang', 'tigil', 'walang', 'tigil', 'walang', 'tigil', 'gyera', 'sunud-sunod', 'sunud-sunod', 'sunud-sunod', 'sunud-sunod', 'sunud-sunod', 'sunud-sunod', 'gyera', 'bukas', 'ba', 'paggising', 'ko', 'tahimik', 'na', 'walang', 'gulo', 'walang', 'gulo', 'kung', 'kailan', 'ang', 'linaw', 'ko', 'ang', 'labo', 'mo', 'ang', 'labo', 'mo', 'naman', 'mundo', 'ang', 'labo', 'mo', 'naman', 'mundo', 'walang', 'hinto', 'walang', 'hinto', 'walang', 'hinto', 'walang', 'hinto', 'walang', 'hinto', 'walang', 'hinto', 'gyera', 'tuluy-tuloy', 'tuluy-tuloy', 'tuluy-tuloy', 'tuluy-tuloy', 'tuluy-tuloy', 'tuluy-tuloy', 'gyera', 'bukas', 'ba', 'paggising', 'ko', 'tahimik', 'na', 'walang', 'gulo', 'walang', 'gulo', 'kung', 'kailan', 'ang', 'linaw', 'ko', 'ang', 'labo', 'mo', 'ang', 'labo', 'mo', 'naman', 'mundo', 'ang', 'labo', 'mo', 'naman', 'mundo', \"'di\", 'pa', 'tapos', \"'di\", 'pa', 'tapos', \"'di\", 'pa', 'tapos', \"'di\", 'pa', 'tapos', \"'di\", 'pa', 'tapos', \"'di\", 'pa', 'tapos', 'gyera', 'walang', 'yawa', 'walang', 'yawa', 'walang', 'yawa', 'walang', 'yawa', 'walang', 'yawa', 'walang', 'yawa', 'gyera', 'bukas', 'ba', 'paggising', 'ko', 'tahimik', 'na', 'walang', 'gulo', 'walang', 'gulo', 'kung', 'kailan', 'ang', 'linaw', 'ko', 'ang', 'labo', 'mo', 'ang', 'labo', 'mo', 'naman', 'mundo', 'ang', 'labo', 'mo', 'naman', 'mundo', 'bukas', 'ba', 'paggising', 'ko', 'tahimik', 'na', 'walang', 'gulo', 'nag-iisang', 'pag-ibig', 'ang', 'nais', 'makamit', 'yun', 'ay', 'ikaw', 'nag-iisang', 'pangako', 'na', 'di', 'magbabago', 'para', 'sayo', 'san', 'ka', 'man', \"sana'y\", 'maalala', 'mo', 'kailan', 'man', \"'sahan\", 'di', 'mag', 'kalayo', 'tanging', 'ikaw', 'lamang', 'ang', 'aking', 'iibigin', 'walang', 'ibang', 'hiling', 'kundi', 'ang', 'yakap', \"mo't\", 'halik', 'hindi', 'malilimutan', 'mga', 'araw', 'natin', 'kay', 'sarap', 'balikan', 'at', 'lagi', 'mong', 'isipin', 'walang', 'ibang', 'mahal', 'kundi', 'ikaw', 'malayo', 'ka', 'man', \"sana'y\", 'maalala', 'mo', 'kailan', 'man', 'pangako', 'di', 'mag', 'kalayo', 'tanging', 'ikaw', 'lamang', 'ang', 'aking', 'iibigin', 'walang', 'ibang', 'hiling', 'kundi', 'ang', 'yakap', \"mo't\", 'halik', 'san', 'ka', 'man', \"sana'y\", 'maalala', 'mo', 'kailan', 'man', \"'sahan\", 'di', 'mag', 'kalayo', 'tanging', 'ikaw', 'lamang', 'ang', 'aking', 'iibigin', 'walang', 'ibang', 'hiling', 'kundi', 'ang', 'yakap', \"mo't\", 'halik', 'tanging', 'ikaw', 'lamang', 'ang', 'aking', 'iibigin', 'walang', 'ibang', 'hiling', 'kundi', 'ang', 'yakap', \"mo't\", 'halik', 'naririnig', 'kay', 'lakas', 'ng', 'pintig', 'nagbabalik', \"hangi'y\", 'sumasaglit', 'sumisigaw', 'sana', \"ngayo'y\", 'mawaglit', 'umuusbong', 'tila', 'bumubulong', 'may', 'bagong', 'hatid', 'ang', 'pagkakataon', 'pagbibigyan', 'o', 'hahayaan', 'na', 'lang', 'sabi', 'ng', 'isip', 'huwag', 'nang', 'tanggapin', 'sabi', 'ng', \"puso'y\", 'muling', 'mahalin', 'o', 'bagyo', 'bakit', 'hanggang', \"ngayo'y\", 'naririto', 'bakit', \"'di\", 'magawa', 'ang', 'lumayo', \"'di\", 'matanto', 'o', 'bagyo', 'maari', 'na', 'bang', 'buksan', 'ang', 'puso', 'ko', 'wala', 'na', 'nga', 'bang', 'pag-asang', 'matanaw', 'bagong', 'araw', 'o', 'bagyo', 'sumisilip', 'kahit', 'sa', 'panaginip', 'huwag', 'ipagkait', 'konting', 'liwanag', 'mo', 'na', 'sasagip', 'turuan', 'muling', 'umibig', 'sabi', 'ng', 'isip', 'huwag', 'nang', 'tanggapin', 'sabi', 'ng', \"puso'y\", 'muling', 'mahalin', 'o', 'bagyo', 'bakit', 'hanggang', \"ngayo'y\", 'naririto', 'bakit', \"'di\", 'magawa', 'ang', 'lumayo', \"'di\", 'matanto', 'o', 'bagyo', 'maari', 'na', 'bang', 'buksan', 'ang', 'puso', 'ko', 'wala', 'na', 'nga', 'bang', 'pag-asang', 'matanaw', 'bagong', 'araw', 'o', 'bagyo', 'unti-unting', \"ika'y\", 'naglalaho', 'upang', 'bigyang', 'daan', 'bagong', 'araw', 'natatanaw', 'o', 'bagyo', 'when', 'you', 'wake', 'up', 'each', \"mornin'\", 'and', 'you', 'feel', 'like', \"callin'\", \"i'll\", 'be', 'there', 'for', 'you', 'when', 'the', 'road', 'seems', 'uncertain', 'and', 'you', \"can't\", 'stop', 'the', \"hurtin'\", \"i'll\", 'be', 'there', 'for', 'you', 'when', \"there's\", 'no', 'one', 'beside', 'you', \"i'll\", 'be', 'there', 'to', 'guide', 'you', 'catch', 'you', 'each', 'time', 'you', 'fall', 'when', 'the', 'stars', \"won't\", 'shine', 'anymore', \"i'll\", 'be', 'there', 'when', 'the', 'world', 'is', 'unkind', 'and', 'your', 'dreams', 'they', 'need', 'more', 'time', \"i'll\", 'be', 'there', 'for', 'you', 'if', 'the', 'rules', 'they', 'keep', \"breakin'\", 'and', 'the', 'future', 'is', \"fadin'\", \"i'll\", 'be', 'there', 'for', 'you', 'the', 'rainbow', 'will', 'end', 'in', 'the', 'palm', 'of', 'your', 'hand', \"don't\", 'ever', 'let', 'it', 'go', 'when', 'the', 'stars', \"won't\", 'shine', 'anymore', \"i'll\", 'be', 'there', 'who', 'knows', 'where', 'will', 'go', 'what', 'will', 'tomorrow', 'brings', 'when', 'we', 'have', 'each', 'other', 'just', 'hold', 'on', 'tight', 'we', 'can', 'take', 'to', 'skies', 'and', 'fly', \"i'll\", 'be', 'there', 'for', 'you', \"i'll\", 'be', 'there', 'for', 'you', 'the', 'rainbow', 'will', 'end', 'in', 'the', 'palm', 'of', 'your', 'hand', \"don't\", 'ever', 'let', 'it', 'go', 'when', 'the', 'stars', \"won't\", 'shine', 'anymore', \"i'll\", 'be', 'there', 'the', 'rainbow', 'will', 'end', 'in', 'the', 'palm', 'of', 'your', 'hand', \"don't\", 'ever', 'let', 'it', 'go', 'when', 'the', 'stars', \"won't\", 'shine', 'anymore', \"i'll\", 'be', 'there', \"i'll\", 'be', 'there', 'ohhhâ\\x80¦', \"i'll\", 'be', 'there', \"'di\", 'mo', 'na', 'kailangan', 'mag-abala', 'mag-alala', 'o', 'subukan', 'nang', 'baguhin', 'ang', 'mga', 'katangian', 'kung', 'ano', 'ka', 'ay', 'tama', 'lang', 'sa', 'iyong', 'kagandahan', 'lahat', \"sila'y\", 'mapatingin', 'kapag', \"ika'y\", 'dumaraan', 'at', 'kapag', 'ikaw', 'ang', 'kasama', 'di', 'ko', 'alam', 'di', 'maintindihan', \"ba't\", 'ganito', 'ang', 'nararamdaman', 'ginugulo', 'mo', 'ang', 'aking', 'isipan', \"ako'y\", 'nabihag', 'sa', 'iyong', 'kagandahan', 'gusto', 'ko', 'ikaw', 'ay', 'akin', 'lang', 'ikaw', 'ay', 'akin', 'lang', 'gagawin', 'ko', 'lahat', 'para', \"sa'yo\", 'ikaw', 'at', 'ako', \"'di\", 'magbabago', \"ako'y\", 'tatakbo', 'papunta', \"sa'yo\", 'kahit', 'pa', 'sa', 'dulo', 'ng', 'mundo', '[x2]', '(woah', 'oh', 'oh', 'oh)', '(woah', 'oh', 'oh', 'oh)', '(woah', 'oh', 'oh', 'oh)', 'sa', 'dulo', 'ng', 'sa', 'dulo', 'ng', 'mundo', '(woah', 'oh', 'oh', 'oh)', '[x2]', \"'di\", 'mo', 'na', 'kailangan', 'pag-isipan', 'ang', 'iyong', 'mga', 'nakaraan', 'dito', 'sa', 'piling', 'ko', 'ikaw', 'ay', 'aking', 'papahalagahan', 'wag', 'ka', 'na', 'matakot', 'alam', 'mo', 'bang', 'di', 'na', 'mababago', 'itong', 'aking', 'nararamdaman', \"sa'yp\", \"'pag\", \"ika'y\", 'timitingin', 'puso', \"ko'y\", 'di', 'mapigilan', 'at', \"ako'y\", 'natatamaan', 'ginugulo', 'mo', 'ang', 'aking', 'isipan', \"ako'y\", 'nabihag', 'sa', 'iyong', 'kagandahan', 'gusto', 'ko', 'ikaw', 'ay', 'akin', 'lang', 'ikaw', 'ay', 'akin', 'lang', 'gagawin', 'ko', 'lahat', 'para', \"sa'yo\", 'ikaw', 'at', 'ako', \"'di\", 'magbabago', \"ako'y\", 'tatakbo', 'papunta', \"sa'yo\", 'kahit', 'pa', 'sa', 'dulo', 'ng', 'mundo', '[x2]', '(woah', 'oh', 'oh', 'oh)', '(woah', 'oh', 'oh', 'oh)', '(woah', 'oh', 'oh', 'oh)', 'sa', 'dulo', 'ng', 'sa', 'dulo', 'ng', 'mundo', '(woah', 'oh', 'oh', 'oh)', '[x2]', 'ginugulo', 'mo', 'ang', 'aking', 'isipan', \"ako'y\", 'nabihag', 'sa', 'iyong', 'kagandahan', 'gusto', 'ko', 'ikaw', 'ay', 'akin', 'lang', 'woah', 'oh', 'oh', 'ikaw', 'ay', 'akin', 'lang', 'gagawin', 'ko', 'lahat', 'para', \"sa'yo\", '(woah', 'oh', 'oh', 'oh)', 'ikaw', 'at', 'ako', \"'di\", 'magbabago', '(woah', 'oh', 'oh', 'oh)', \"ako'y\", 'tatakbo', 'papunta', \"sa'yo\", '(woah', 'oh', 'oh', 'oh)', 'kahit', 'pa', 'sa', 'dulo', 'ng', 'mundo', '(woah', 'oh', 'oh', 'oh)', '[x2]', 'i', 'have', 'to', 'admit', 'i', 'am', 'in', 'the', 'rough', 'try', 'to', 'forget', 'but', \"it's\", 'just', 'so', 'tough', 'yeah', 'hungry', 'for', 'peace', 'and', 'whenever', 'i', 'ease', 'it', 'the', 'more', 'it', 'just', 'brings', 'me', 'down', 'no', 'no', 'but', 'i', 'still', 'hang', 'on', 'for', 'if', \"there's\", 'no', 'pressure', \"there'll\", 'be', 'no', 'diamonds', 'so', 'i', \"don't\", 'mind', 'it', \"comin'\", 'my', 'way', 'no', \"i'm\", 'tired', 'of', 'putting', 'out', 'the', 'fire', 'freedom', 'is', 'all', 'i', 'desire', 'if', \"there's\", 'no', 'pressure', \"there'll\", 'be', 'no', 'diamonds', 'i', 'know', 'i', 'will', 'be', 'a', 'diamond', 'diamond', 'diamond', 'i', 'know', 'i', 'will', 'be', 'a', 'diamond', 'diamond', 'a', 'diamond', 'oh', 'people', 'say', \"they'll\", 'hear', 'you', 'but', 'they', \"don't\", 'really', 'understand', \"it's\", 'really', 'so', 'exhausting', \"they're\", 'tryna', 'reach', 'out', 'for', \"someone's\", 'hand', 'keep', 'on', \"tellin'\", 'me', 'it', 'gets', 'better', \"it's\", 'hard', 'to', 'see', 'when', 'all', 'i', 'get', 'is', 'bad', 'weather', 'no', 'but', 'i', 'still', 'hang', 'on', 'if', \"there's\", 'no', 'pressure', \"there'll\", 'be', 'no', 'diamonds', 'so', 'i', \"don't\", 'mind', 'it', \"comin'\", 'my', 'way', 'no', \"i'm\", 'tired', 'of', 'putting', 'out', 'the', 'fire', 'freedom', 'is', 'all', 'i', 'desire', 'if', \"there's\", 'no', 'pressure', \"there'll\", 'be', 'no', 'diamonds', 'i', 'know', 'i', 'will', 'be', 'a', 'diamond', 'diamond', 'diamond', 'i', 'know', 'i', 'will', 'be', 'a', 'diamond', 'diamond', 'a', 'diamond', 'oh', 'hunt', 'for', 'me', 'press', 'on', 'me', 'i', \"don't\", 'mind', 'seeing', 'it', \"comin'\", 'my', 'way', 'hunt', 'for', 'me', 'press', 'on', 'me', 'i', \"don't\", 'mind', 'seeing', 'it', \"comin'\", 'my', 'way', 'hunt', 'for', 'me', 'press', 'on', 'me', 'i', \"don't\", 'mind', 'seeing', 'it', \"comin'\", 'my', 'way', 'hunt', 'for', 'me', 'press', 'on', 'me', 'i', \"don't\", 'mind', 'seeing', 'it', \"comin'\", 'my', 'way', 'if', \"there's\", 'no', 'pressure', \"there'll\", 'be', 'no', 'diamonds', 'so', 'i', \"don't\", 'mind', 'it', \"comin'\", 'my', 'way', 'no', \"i'm\", 'tired', 'of', 'putting', 'out', 'the', 'fire', 'freedom', 'is', 'all', 'i', 'desire', 'if', \"there's\", 'no', 'pressure', \"there'll\", 'be', 'no', 'diamonds', 'i', 'know', 'i', 'will', 'be', 'a', 'diamond', 'diamond', 'diamond', 'i', 'know', 'i', 'will', 'be', 'a', 'diamond', 'diamond', 'a', 'diamond', 'oh', 'if', 'hate', 'begins', 'with', 'love', 'why', 'do', 'we', 'need', 'to', 'love', 'if', \"love's\", 'the', 'answer', 'why', 'are', 'there', 'questions', 'unanswered', 'how', 'can', 'people', 'become', 'lovers', 'then', 'end', 'up', 'like', 'strangers', 'you', 'give', 'your', 'everything', 'then', 'end', 'up', 'with', 'nothing', 'nothing', 'oh', 'nothing', 'keep', 'going', \"it's\", 'worth', 'trying', 'love', 'even', 'when', 'it', 'hurts', 'you', 'just', 'keep', 'on', 'loving', \"'til\", 'it', 'hurts', 'no', 'more', 'love', 'even', 'when', 'they', \"don't\", 'you', 'just', 'keep', 'on', 'loving', 'til', 'they', 'love', 'the', 'way', 'you', 'do', 'love', '(love)', 'even', 'when', \"it's\", 'difficult', 'you', 'just', 'keep', 'on', 'loving', 'love', '(love)', 'til', 'it', 'becomes', 'easy', 'you', 'just', 'keep', 'on', 'loving', 'why', 'we', 'discriminate', 'yet', 'we', 'say', 'love', 'wins', 'and', 'we', 'celebrate', 'we', 'say', 'no', 'prejudice', 'yet', 'we', 'turn', 'our', 'blind', 'eye', 'with', 'injustice', 'how', 'can', 'people', 'become', 'lovers', 'then', 'end', 'up', 'like', 'strangers', 'you', 'give', 'your', 'everything', 'then', 'end', 'up', 'with', 'nothing', 'nothing', 'oh', 'nothing', 'love', 'even', 'when', 'it', 'hurts', 'you', 'just', 'keep', 'on', 'loving', \"'til\", 'it', 'hurts', 'no', 'more', 'love', 'even', 'when', 'they', \"don't\", 'you', 'just', 'keep', 'on', 'loving', 'til', 'they', 'love', 'the', 'way', 'you', 'do', 'love', '(love)', 'even', 'when', \"it's\", 'difficult', 'you', 'just', 'keep', 'on', 'loving', 'love', '(love)', 'til', 'it', 'becomes', 'easy', 'you', 'just', 'keep', 'on', 'loving', 'next', 'time', \"we'll\", 'do', 'it', 'right', 'so', 'that', 'next', 'time', 'we', \"don't\", 'need', 'the', 'explanations', \"'cause\", 'when', 'we', 'keep', 'secrets', 'between', 'us', 'agree', 'to', 'disagree', 'miscommunications', 'leave', 'without', 'apologies', 'they', 'always', 'say', 'love', 'hurts', 'us', 'most', 'but', 'also', 'sets', 'us', 'free', 'for', 'pain', 'is', 'temporary', 'all', \"i'll\", 'do', 'is', 'love', 'even', 'when', 'it', 'hurts', 'you', 'just', 'keep', 'on', 'loving', \"'til\", 'it', 'hurts', 'no', 'more', 'love', 'even', 'when', 'they', \"don't\", 'you', 'just', 'keep', 'on', 'loving', 'til', 'they', 'love', 'the', 'way', 'you', 'do', 'love', '(love)', 'even', 'when', \"it's\", 'difficult', 'you', 'just', 'keep', 'on', 'loving', 'love', '(love)', 'til', 'it', 'becomes', 'easy', 'you', 'just', 'keep', 'on', 'loving', 'looking', 'at', 'the', 'coffee', 'table', \"you'll\", 'see', 'perfect', 'pictures', 'if', 'only', 'they', 'knew', 'about', 'us', 'sure', \"we'll\", 'cook', 'dinner', 'together', \"we're\", 'never', 'late', 'in', 'birthday', 'parties', 'but', 'tomorrow', \"it's\", 'the', 'opposite', 'for', \"we'll\", 'make', 'bad', 'decisions', \"we'll\", 'throw', 'words', 'that', \"we'll\", 'regret', 'prideful', 'arguments', \"'cause\", 'we', 'know', \"it's\", 'not', 'always', 'easy', \"'cause\", 'if', 'we', 'meet', 'on', 'the', 'flipside', 'all', \"we'll\", 'see', 'are', 'tangled', 'threads', 'but', 'if', 'we', 'meet', 'on', 'the', 'other', 'side', \"we'll\", 'see', 'it', 'all', 'unknotted', 'right', 'now', 'it', 'looks', 'like', 'we', 'will', 'never', 'make', 'sense', 'but', 'once', 'this', 'tapestry', 'is', 'done', \"we'll\", 'see', 'what', 'love', 'truly', 'is', 'once', 'this', 'tapestry', 'is', 'done', \"we'll\", 'believe', 'what', 'love', 'truly', 'is', 'be', 'together', 'in', 'every', 'season', 'laughing', 'times', 'without', 'a', 'reason', 'i', 'never', 'want', 'this', 'to', 'end', 'but', 'i', 'know', 'tomorrow', 'everything', 'will', 'be', 'different', 'for', \"we'll\", 'make', 'bad', 'decisions', \"we'll\", 'throw', 'words', 'that', \"we'll\", 'regret', 'prideful', 'arguments', \"'cause\", 'we', 'know', \"it's\", 'not', 'always', 'easy', \"'cause\", 'if', 'we', 'meet', 'on', 'the', 'flipside', 'all', \"we'll\", 'see', 'are', 'tangled', 'threads', 'but', 'if', 'we', 'meet', 'on', 'the', 'other', 'side', \"we'll\", 'see', 'it', 'all', 'unknotted', 'right', 'now', 'it', 'looks', 'like', 'we', 'will', 'never', 'make', 'sense', 'but', 'once', 'this', 'tapestry', 'is', 'done', \"we'll\", 'see', 'what', 'love', 'truly', 'is', 'once', 'this', 'tapestry', 'is', 'done', \"we'll\", 'believe', 'what', 'love', 'truly', 'is', \"don't\", 'know', 'why', 'they', \"trippin'\", 'cus', 'i', 'want', 'you', 'maybe', 'cus', \"i'm\", 'doing', 'things', 'they', \"won't\", 'do', 'damn', 'that', 'body', 'and', 'your', 'mental', 'got', 'me', 'addicted', 'baby', 'you', 'can', 'bet', 'on', 'it', 'bet', \"i'ma\", 'pull', 'up', 'with', 'a', 'dozen', 'roses', 'yeah', 'take', 'your', 'pic', 'but', \"you're\", 'my', 'focus', 'yeah', 'you', 'know', \"i'ma\", 'love', 'you', 'gently', 'yeah', 'this', 'time', \"it's\", 'different', 'cus', \"you're\", 'the', 'one', 'that', \"i'm\", \"missin'\", 'you', 'the', 'one', 'you', 'the', 'one', 'you', 'the', 'one', 'i', 'want', '4', 'life', 'you', 'can', 'get', 'it', 'you', 'got', 'me', \"simpin'\", 'you', 'the', 'one', 'you', 'the', 'one', 'you', 'the', 'one', 'i', 'want', '4', 'life', 'they', 'in', 'our', 'business', '(you', 'the', 'one)', 'you', \"ain't\", 'like', 'them', 'others', 'i', \"don't\", 'want', 'nobody', 'after', 'you', 'they', \"wouldn't\", 'compare', 'cus', \"ain't\", 'nobody', 'got', 'me', \"fallin'\", 'this', 'hard', \"i'ma\", 'do', 'my', 'part', 'bet', \"i'ma\", 'pull', 'up', 'with', 'a', 'dozen', 'roses', 'yeah', 'take', 'your', 'pic', 'but', \"you're\", 'my', 'focus', 'yeah', 'you', 'know', \"i'ma\", 'love', 'you', 'gently', 'yeah', 'this', 'time', \"it's\", 'different', 'cus', \"you're\", 'the', 'one', 'that', \"i'm\", \"missin'\", 'you', 'the', 'one', 'you', 'the', 'one', 'you', 'the', 'one', 'i', 'want', '4', 'life', 'you', 'can', 'get', 'it', 'you', 'got', 'me', \"simpin'\", 'you', 'the', 'one', 'you', 'the', 'one', 'you', 'the', 'one', 'i', 'want', '4', 'life', 'they', 'in', 'our', 'business', '(you', 'the', 'one)', \"i'ma\", 'pull', 'up', 'with', 'a', 'dozen', 'roses', 'yeah', 'take', 'your', 'pic', 'but', \"you're\", 'my', 'focus', 'yeah', 'you', 'know', \"i'ma\", 'love', 'you', 'gently', 'yeah', 'this', 'time', 'is', 'different', 'cus', \"you're\", 'the', 'one', 'that', \"i'm\", \"missin'\", '(yeah)', 'you', 'the', 'one', 'you', 'the', 'one', 'you', 'the', 'one', 'i', 'want', '4', 'life', 'you', 'can', 'get', 'it', 'you', 'got', 'me', \"simpin'\", '(you', 'got', 'me', \"simpin')\", 'you', 'the', 'one', 'you', 'the', 'one', 'you', 'the', 'one', 'i', 'want', '4', 'life', '(oooo)', 'they', 'in', 'our', 'business', '(yeah)', '(you', 'the', 'one)', 'you', 'the', 'one', 'you', 'the', 'one', 'you', 'the', 'one', 'i', 'want', '4', 'life', 'you', 'can', 'get', 'it', 'you', 'got', 'me', \"simpin'\", \"(simpin')\", 'you', 'the', 'one', 'you', 'the', 'one', 'you', 'the', 'one', 'i', 'want', '4', 'life', 'they', 'in', 'our', 'business', 'you', 'the', 'one', 'that', 'i', 'want', 'girl', \"don't\", 'know', 'why', 'they', \"trippin'\", 'cus', 'i', 'want', 'you', 'maybe', 'cus', \"i'm\", 'doing', 'things', 'they', \"won't\", 'do', 'damn', 'that', 'body', 'and', 'your', 'mental', 'got', 'me', 'addicted', 'baby', 'you', 'can', 'bet', 'on', 'it', 'bet', \"i'ma\", 'pull', 'up', 'with', 'a', 'dozen', 'roses', 'yeah', 'take', 'your', 'pic', 'but', \"you're\", 'my', 'focus', 'yeah', 'you', 'know', \"i'ma\", 'love', 'you', 'gently', 'yeah', 'this', 'time', \"it's\", 'different', 'cus', \"you're\", 'the', 'one', 'that', \"i'm\", \"missin'\", 'you', 'the', 'one', 'you', 'the', 'one', 'you', 'the', 'one', 'i', 'want', '4', 'life', 'you', 'can', 'get', 'it', 'you', 'got', 'me', \"simpin'\", 'you', 'the', 'one', 'you', 'the', 'one', 'you', 'the', 'one', 'i', 'want', '4', 'life', 'they', 'in', 'our', 'business', '(you', 'the', 'one)', 'got', 'me', \"losin'\", 'my', 'mind', 'babe', 'and', 'i', 'forget', 'about', 'the', 'world', 'when', \"you're\", 'kissing', 'me', 'slow', 'and', 'say', \"i'm\", 'the', 'one', '(oooo)', 'and', 'i', \"don't\", 'want', 'it', 'if', 'it', \"ain't\", 'you', 'on', 'my', 'body', '(just', 'touch', 'me)', 'and', 'say', 'this', 'is', '4', 'life', 'bet', \"i'ma\", 'pull', 'up', 'with', 'a', 'dozen', 'roses', 'yeah', '(dozen', 'roses)', 'take', 'your', 'pic', 'but', \"you're\", 'my', 'focus', 'yeah', 'you', 'know', \"i'ma\", 'love', 'you', 'gently', 'yeah', 'this', 'time', \"it's\", 'different', 'cus', \"you're\", 'the', 'one', 'that', \"i'm\", \"missin'\", 'you', 'the', 'one', 'you', 'the', 'one', 'you', 'the', 'one', 'i', 'want', '4', 'life', '(4', 'life)', 'you', 'can', 'get', 'it', 'you', 'got', 'me', \"simpin'\", 'you', 'the', 'one', '(you', 'the', 'one)', 'you', 'the', 'one', 'you', 'the', 'one', 'i', 'want', '4', 'life', 'they', 'in', 'our', 'business', '(you', 'the', 'one)', 'you', 'the', 'one', 'i', 'wanna', 'ride', 'with', 'you', 'the', 'one', 'i', 'choose', 'i', \"don't\", 'even', 'gotta', 'think', 'about', 'it', 'type', 'of', 'love', 'you', \"can't\", 'lose', 'baby', \"i'm\", 'a', 'mess', 'with', 'you', 'is', 'you', 'by', 'my', 'side', 'day', 'and', 'night', 'promise', \"i'mma\", 'do', 'you', 'right', 'so', \"i'ma\", 'pull', 'up', 'with', 'a', 'dozen', 'roses', 'yeah', '(dozen', 'roses)', 'take', 'your', 'pic', 'but', \"you're\", 'my', 'focus', 'yeah', '(ooo)', 'you', 'know', \"i'ma\", 'love', 'you', 'gently', 'yeah', 'this', 'time', 'is', 'different', 'cus', \"you're\", 'the', 'one', 'that', \"i'm\", \"missin'\", '(yeah)', 'you', 'the', 'one', '(oh', 'you', 'the', 'one', 'i', 'want', 'for', 'life)', 'you', 'the', 'one', 'you', 'the', 'one', 'i', 'want', '4', 'life', 'you', 'can', 'get', 'it', 'you', 'got', 'me', \"simpin'\", '(you', 'got', 'me', \"simpin')\", 'you', 'the', 'one', 'you', 'the', 'one', 'you', 'the', 'one', 'i', 'want', '4', 'life', '(oooo)', 'they', 'in', 'our', 'business', '(yeah)', '(you', 'the', 'one)', 'you', 'the', 'one', 'you', 'the', 'one', 'you', 'the', 'one', 'i', 'want', '4', 'life', 'you', 'can', 'get', 'it', 'you', 'got', 'me', \"simpin'\", \"(simpin')\", 'you', 'the', 'one', 'you', 'the', 'one', 'you', 'the', 'one', 'i', 'want', '4', 'life', 'they', 'in', 'our', 'business', 'you', 'the', 'one', 'that', 'i', 'want', 'girl', 'you', 'the', 'one', 'you', 'the', 'one', 'you', 'the', 'one', 'i', 'want', '4', 'life', 'you', 'the', 'one', 'you', 'the', 'one', 'you', 'the', 'one', 'i', 'want', '4', 'life', 'you', 'the', 'one', 'you', 'the', 'one', 'you', 'the', 'one', 'girl', '4', 'life', \"i've\", 'been', 'feeling', 'you', 'baby', \"you've\", 'been', 'feeling', 'me', 'is', 'this', 'a', 'one', 'and', 'done', 'is', 'love', 'what', 'we', 'really', 'need', 'cause', \"i'm\", 'not', 'gonna', 'lie', \"i'm\", 'not', 'a', 'good', 'guy', 'yeah', 'you', 'keep', 'telling', 'me', 'that', 'you', 'never', 'gonna', 'leave', 'but', 'i', \"don't\", 'trust', 'myself', 'to', 'give', 'you', 'what', 'you', 'need', \"you're\", 'too', 'good', 'for', 'me', 'this', 'is', 'your', 'warning', 'yeah', 'i', \"don't\", 'wanna', 'be', 'the', 'one', 'to', 'break', 'your', 'heart', 'in', 'two', 'you', 'say', \"i'm\", 'the', 'only', 'one', 'who', 'does', 'the', 'things', 'i', 'do', 'to', 'you', 'but', 'i', \"don't\", 'wanna', 'argue', 'but', 'maybe', 'you', 'can', 'be', 'the', 'one', 'to', 'fix', 'me', 'fix', 'me', 'fix', 'me', 'fix', 'me', 'fix', 'me', 'fix', 'me', 'fix', 'me', 'fix', 'me', 'fix', 'me', \"you're\", 'the', 'beauty', \"i'm\", 'the', 'beast', \"that's\", 'for', 'your', 'taking', 'you', 'say', 'your', 'happy', 'with', 'the', 'choices', 'that', \"you're\", 'making', 'you', \"can't\", 'resist', 'it', 'and', \"i'm\", 'not', 'gonna', 'stop', 'shit', 'yeah', 'you', 'say', \"you're\", 'stuck', 'on', 'me', 'when', \"we're\", 'in', 'between', 'the', 'sheets', 'but', 'am', 'i', 'really', 'who', 'you', 'wanna', 'raise', 'your', 'kids', 'with', \"i'm\", 'not', 'that', 'type', 'a', 'but', 'somehow', 'you', 'want', 'me', 'i', \"don't\", 'wanna', 'be', 'the', 'one', 'to', 'break', 'your', 'heart', 'in', 'two', 'you', 'say', \"i'm\", 'the', 'only', 'one', 'who', 'does', 'the', 'things', 'i', 'do', 'to', 'you', 'but', 'i', \"don't\", 'wanna', 'argue', 'but', 'maybe', 'you', 'can', 'be', 'the', 'one', 'to', 'fix', 'me', 'fix', 'me', 'fix', 'me', 'fix', 'me', 'fix', 'me', 'fix', 'me', 'fix', 'me', 'fix', 'me', 'fix', 'me', \"i've\", 'been', 'so', 'lonely', 'so', 'far', 'from', 'you', 'man', 'these', 'rainy', 'days', 'do', 'get', 'to', 'you', 'i', \"can't\", 'even', 'remember', 'what', \"it's\", 'like', 'in', 'a', 'sunny', 'day', 'please', 'come', 'back', 'to', 'me', 'i', 'i', 'i', 'i', 'miss', 'you', 'in', 'the', 'moonlight', 'i', 'miss', 'you', 'in', 'the', 'sunshine', 'i', 'miss', 'you', 'by', 'my', 'side', 'everyday', 'oh', 'oh', 'oh', 'i', 'hear', 'your', 'whispers', 'those', 'i', 'love', 'yous', 'sometimes', 'i', \"didn't\", 'listen', 'im', 'sorry', \"'bout\", 'that', 'too', 'it', 'broke', 'my', 'heart', 'in', 'pieces', 'when', 'you', 'moved', 'away', 'please', 'come', 'back', 'to', 'me', 'i', 'i', 'i', 'i', 'miss', 'you', 'in', 'the', 'moonlight', 'i', 'miss', 'you', 'in', 'the', 'sunshine', 'i', 'miss', 'you', 'by', 'my', 'side', 'everyday', 'oh', 'oh', 'oh', 'i', 'miss', 'you', 'in', 'the', 'moonlight', 'i', 'miss', 'you', 'in', 'the', 'sunshine', 'i', 'miss', 'you', 'by', 'my', 'side', 'everyday', 'oh', 'oh', 'oh']\n"
     ]
    }
   ],
   "source": [
    "# Combine all lyrics into one string\n",
    "all_lyrics = \" \".join(dataset[\"Lyrics\"])\n",
    "\n",
    "# Remove punctuation and convert to lowercase\n",
    "all_lyrics = re.sub(r'[\\.,!?;:\"]', \"\", all_lyrics).lower()\n",
    "\n",
    "# Split the lyrics into words\n",
    "all_words = all_lyrics.split()\n",
    "\n",
    "print(all_words)"
   ]
  },
  {
   "cell_type": "markdown",
   "metadata": {},
   "source": [
    "We then count how many times each word appeared in the list, which is arranged by their frequency."
   ]
  },
  {
   "cell_type": "code",
   "execution_count": null,
   "metadata": {},
   "outputs": [
    {
     "data": {
      "text/html": [
       "<div>\n",
       "<style scoped>\n",
       "    .dataframe tbody tr th:only-of-type {\n",
       "        vertical-align: middle;\n",
       "    }\n",
       "\n",
       "    .dataframe tbody tr th {\n",
       "        vertical-align: top;\n",
       "    }\n",
       "\n",
       "    .dataframe thead th {\n",
       "        text-align: right;\n",
       "    }\n",
       "</style>\n",
       "<table border=\"1\" class=\"dataframe\">\n",
       "  <thead>\n",
       "    <tr style=\"text-align: right;\">\n",
       "      <th></th>\n",
       "      <th>Word</th>\n",
       "      <th>Occurences</th>\n",
       "    </tr>\n",
       "  </thead>\n",
       "  <tbody>\n",
       "    <tr>\n",
       "      <th>911</th>\n",
       "      <td>you</td>\n",
       "      <td>160</td>\n",
       "    </tr>\n",
       "    <tr>\n",
       "      <th>137</th>\n",
       "      <td>ang</td>\n",
       "      <td>137</td>\n",
       "    </tr>\n",
       "    <tr>\n",
       "      <th>923</th>\n",
       "      <td>the</td>\n",
       "      <td>126</td>\n",
       "    </tr>\n",
       "    <tr>\n",
       "      <th>34</th>\n",
       "      <td>na</td>\n",
       "      <td>113</td>\n",
       "    </tr>\n",
       "    <tr>\n",
       "      <th>4</th>\n",
       "      <td>sa</td>\n",
       "      <td>102</td>\n",
       "    </tr>\n",
       "    <tr>\n",
       "      <th>49</th>\n",
       "      <td>o</td>\n",
       "      <td>93</td>\n",
       "    </tr>\n",
       "    <tr>\n",
       "      <th>1027</th>\n",
       "      <td>i</td>\n",
       "      <td>86</td>\n",
       "    </tr>\n",
       "    <tr>\n",
       "      <th>6</th>\n",
       "      <td>ng</td>\n",
       "      <td>77</td>\n",
       "    </tr>\n",
       "    <tr>\n",
       "      <th>932</th>\n",
       "      <td>one</td>\n",
       "      <td>77</td>\n",
       "    </tr>\n",
       "    <tr>\n",
       "      <th>16</th>\n",
       "      <td>ay</td>\n",
       "      <td>61</td>\n",
       "    </tr>\n",
       "  </tbody>\n",
       "</table>\n",
       "</div>"
      ],
      "text/plain": [
       "     Word  Occurences\n",
       "911   you         160\n",
       "137   ang         137\n",
       "923   the         126\n",
       "34     na         113\n",
       "4      sa         102\n",
       "49      o          93\n",
       "1027    i          86\n",
       "6      ng          77\n",
       "932   one          77\n",
       "16     ay          61"
      ]
     },
     "execution_count": 122,
     "metadata": {},
     "output_type": "execute_result"
    }
   ],
   "source": [
    "# Counts the frequency of each word\n",
    "word_counts = Counter(all_words)\n",
    "\n",
    "# Creates a DataFrame of the words and their frequency\n",
    "word_frequency_df = pd.DataFrame(word_counts.items(), columns = ['Word', 'Occurences'])\n",
    "\n",
    "# Arrange according to most frequent\n",
    "word_frequency_df = word_frequency_df.sort_values(by = 'Occurences', ascending = False)\n",
    "\n",
    "word_frequency_df.head(10)"
   ]
  },
  {
   "cell_type": "markdown",
   "metadata": {},
   "source": [
    "Finally, we create a bar chart to display each word's frequency"
   ]
  },
  {
   "cell_type": "code",
   "execution_count": null,
   "metadata": {},
   "outputs": [
    {
     "name": "stderr",
     "output_type": "stream",
     "text": [
      "C:\\Users\\dell\\AppData\\Local\\Temp\\ipykernel_15776\\706979649.py:2: FutureWarning: \n",
      "\n",
      "Passing `palette` without assigning `hue` is deprecated and will be removed in v0.14.0. Assign the `y` variable to `hue` and set `legend=False` for the same effect.\n",
      "\n",
      "  sns.barplot(x='Occurences', y='Word', data=word_frequency_df.head(10), palette='icefire')\n"
     ]
    },
    {
     "data": {
      "image/png": "[encoded data removed]",
      "text/plain": [
       "<Figure size 1000x600 with 1 Axes>"
      ]
     },
     "metadata": {},
     "output_type": "display_data"
    }
   ],
   "source": [
    "plt.figure(figsize=(10, 6))\n",
    "sns.barplot(x='Occurences', y='Word', data=word_frequency_df.head(10), palette='icefire')\n",
    "plt.xlabel('Occurences')\n",
    "plt.ylabel('Words')\n",
    "plt.title('Top 10 Most Frequent Words in Lyrics')\n",
    "plt.tight_layout()\n",
    "\n",
    "plt.show()"
   ]
  }
 ],
 "metadata": {
  "kernelspec": {
   "display_name": "Python 3",
   "language": "python",
   "name": "python3"
  },
  "language_info": {
   "codemirror_mode": {
    "name": "ipython",
    "version": 3
   },
   "file_extension": ".py",
   "mimetype": "text/x-python",
   "name": "python",
   "nbconvert_exporter": "python",
   "pygments_lexer": "ipython3",
   "version": "3.12.4"
  }
 },
 "nbformat": 4,
 "nbformat_minor": 2
}

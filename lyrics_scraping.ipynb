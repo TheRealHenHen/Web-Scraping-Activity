{
 "cells": [
  {
   "cell_type": "markdown",
   "metadata": {},
   "source": [
    "Timestamp: 6/27/2024 4:04 PM"
   ]
  },
  {
   "cell_type": "markdown",
   "metadata": {},
   "source": [
    "# *Web Scraping OPM Song Lyrics*"
   ]
  },
  {
   "cell_type": "markdown",
   "metadata": {},
   "source": [
    " **Important**\n",
    "\n",
    "The activity uses a [website](https://www.azlyrics.com/) for the list of OPM songs and singers, which may not contain all OPM songs or artists. "
   ]
  },
  {
   "cell_type": "code",
   "execution_count": 13,
   "metadata": {},
   "outputs": [],
   "source": [
    "from bs4 import BeautifulSoup, Comment\n",
    "import bs4\n",
    "import pandas as pd\n",
    "import requests\n",
    "import re\n",
    "import time"
   ]
  },
  {
   "cell_type": "code",
   "execution_count": 14,
   "metadata": {},
   "outputs": [
    {
     "name": "stdout",
     "output_type": "stream",
     "text": [
      "BeautifulSoup4:  4.12.3\n",
      "Pandas:  2.2.2\n",
      "Requests:  2.32.3\n",
      "RegEx:  2.2.1\n"
     ]
    }
   ],
   "source": [
    "print(\"BeautifulSoup4: \", bs4.__version__)\n",
    "print(\"Pandas: \", pd.__version__)\n",
    "print(\"Requests: \", requests.__version__)\n",
    "print(\"RegEx: \", re.__version__)"
   ]
  },
  {
   "cell_type": "markdown",
   "metadata": {},
   "source": [
    "# Preliminaries"
   ]
  },
  {
   "cell_type": "markdown",
   "metadata": {},
   "source": [
    "## **Dataset Description**"
   ]
  },
  {
   "cell_type": "markdown",
   "metadata": {},
   "source": [
    "The song and singer data was extracted from [this](https://www.azlyrics.com/) website, which contains lyrics for each song of a specified artist.\n",
    "\n",
    "To isolate the data to include only OPM songs, a list of Filipino singers was taken from [this](https://en.wikipedia.org/wiki/List_of_Filipino_singers) website."
   ]
  },
  {
   "cell_type": "code",
   "execution_count": 24,
   "metadata": {},
   "outputs": [
    {
     "name": "stdout",
     "output_type": "stream",
     "text": [
      "['jakezyrus']\n"
     ]
    }
   ],
   "source": [
    "#singers = [\"Dong Abay\", \"Bayani Agbayani\", \"Joey Albert\", \"Barbie Almalbis\", \"Amapola\", \"Cynthia Alexander\", \"Freddie Aguilar\", \"Hajji Alejandro\", \"Rachel Alejandro\", \"Joey Ayala\", \"Kyline Alcantara\", \"Ogie Alcasid\", \"Dely Atay-Atayan\", \"Dingdong Avanzado\", \"Carol Banawa\", \"Edward Barber\", \"Bayang Barrios\", \"Carlos Balcells\", \"Bassilyo\", \"Heber Bartolome\", \"Jimmy Bondoc\", \"Jovit Baldivino\", \"Christian Bautista\", \"Beabadoobee\", \"Zild Benitez\", \"Mark Bautista\", \"Janine Berdin\", \"Blakdyak\", \"Rico Blanco\", \"Alisah Bonaobra\", \"Andrea Brillantes\", \"Ely Buendia\", \"Noel Cabangon\", \"Lito Camo\", \"Ryan Cayabyab\", \"Billy Crawford\", \"John Cadeliña\", \"Jose Mari Chan\", \"Kim Chiu\", \"Kean Cipriano\", \"Sam Concepcion\", \"Pilita Corrales\", \"Teddy Corpuz\", \"Roel Cortez\", \"Yeng Constantino\", \"Donna Cruz\", \"Radha Cuadrado\", \"Sharon Cuneta\", \"Anne Curtis\", \"Claire de la Fuente\", \"Glaiza de Castro\", \"Dianne dela Fuente\", \"Dingdong Dantes\", \"Karina Constantino David\", \"JM de Guzman\", \"Klarisse de Guzman\", \"Mrld\", \"Moira Dela Torre\", \"Joey de Leon\", \"Kisses Delavin\", \"Enchong Dee\", \"Lourd de Veyra\", \"Francine Diaz\", \"Elaine Duran\", \"Jason Dy\", \"Andrew E.\", \"Kyle Echarri\", \"Maymay Entrata\", \"Bituin Escalante\", \"Darren Espanto\", \"Brenan Espartinez\", \"Karla Estrada\", \"Heart Evangelista\", \"Seth Fedelin\", \"Pops Fernandez\", \"Juris Fernandez\", \"Florante\", \"Rose Fostanes\", \"Vice Ganda\", \"Maricris Garcia\", \"Tootsie Guevara\", \"Janno Gibbs\", \"Enrique Gil\", \"Nikki Gil\", \"Rachelle Ann Go\", \"Sarah Geronimo\", \"King Girado\", \"Alex Gonzaga\", \"Toni Gonzaga\", \"Gary Granada\", \"Catriona Gray\", \"Mike Hanopol\", \"Solenn Heussaff\", \"Agot Isidro\", \"Ramon Jacinto\", \"Jaya\", \"RJ Jimenez\", \"Jing Hidalgo Santos\", \"Karylle\", \"Angela Ken\", \"Kyla\", \"Yasmien Kurdi\", \"Juan Karlos Labajo\", \"Raymond Lauchengco\", \"Kris Lawrence\", \"Kuh Ledesma\", \"Celeste Legaspi\", \"Ronnie Liang\", \"Xian Lim\", \"Nadine Lustre\", \"Chito Miranda\", \"Jed Madela\", \"Elmo Magalona\", \"Francis Magalona\", \"Bamboo Manalac\", \"Jennylyn Mercado\", \"Gian Magdangal\", \"Jolina Magdangal\", \"Michael Pangilinan\", \"Maine Mendoza\", \"Sam Milby\", \"Lani Misalucha\", \"Vina Morales\", \"Morissette\", \"Kitchie Nadal\", \"Roselle Nava\", \"Sitti Navarro\", \"Vhong Navarro\", \"Arthur Nery\", \"Martin Nievera\", \"Nina\", \"Grace Nono\", \"Paolo Onesa\", \"Daryl Ong\", \"Daniel Padilla\", \"Kylie Padilla\", \"Zsa Zsa Padilla\", \"Manny Pacquiao\", \"Inigo Pascual\", \"Piolo Pascual\", \"Jett Pangan\", \"Imelda Papin\", \"Eddie Peregrina\", \"Arnel Pineda\", \"Lovi Poe\", \"Pokwang\", \"Marcelito Pomoy\", \"Richard Poon\", \"Chickoy Pura\", \"Yassi Pressman\", \"Rico J. Puno\", \"Myk Perez\", \"Odette Quesada\", \"Angeline Quinto\", \"Zia Quizon\", \"Jay R\", \"Khalil Ramos\", \"John Raymundo\", \"April Boy Regino\", \"Sheryn Regis\", \"James Reid\", \"Willie Revillame\", \"Manilyn Reynes\", \"Alden Richards\", \"Ariel Rivera\", \"Jamie Rivera\", \"Marian Rivera\", \"Olivia Rodrigo\", \"Wilbert Ross\", \"Karl Roy\", \"Myra Ruaro\", \"Sarah Geronimo\", \"Lea Salonga\", \"Unique\", \"Janella Salvador\", \"Maja Salvador\", \"Sampaguita\", \"Julie Anne San Jose\", \"Josh Santana\", \"Randy Santiago\", \"Aicelle Santos\", \"Erik Santos\", \"Gerald Santos\", \"Judy Ann Santos\", \"Vehnee Saturno\", \"Aiza Seguerra\", \"Vic Sotto\", \"Marco Sison\", \"Jay-R Siaboc\", \"Pepe Smith\", \"Max Surban\", \"KZ Tandingan\", \"Daniel Tagibao\", \"Ivy Violan\", \"Michael V\", \"Regine Velasquez\", \"Nikki Valdez\", \"Gary Valenciano\", \"Rey Valera\", \"Viktoria\", \"Jessica Villarubin\", \"Yoyoy Villame\", \"Cris Villonco\", \"Jona Viray\", \"Katrina Velarde\", \"Victor Wood\", \"Richard Yap\", \"Mitoy Yonting\", \"Jake Zyrus\", \"Jessa Zaragoza\"]\n",
    "singers = [\"Jake Zyrus\"]\n",
    "\n",
    "singer_urls = []\n",
    "\n",
    "for singer in singers:\n",
    "    # Transforms the singer's names into codes that can be found in the website\n",
    "    singer_urls.append(singer.lower().replace(\" \", \"\")) \n",
    "\n",
    "print(singer_urls)"
   ]
  },
  {
   "cell_type": "markdown",
   "metadata": {},
   "source": [
    "## **Variables**"
   ]
  },
  {
   "cell_type": "markdown",
   "metadata": {},
   "source": [
    "Here are the list of variables that would be used"
   ]
  },
  {
   "cell_type": "code",
   "execution_count": 16,
   "metadata": {},
   "outputs": [],
   "source": [
    "singers_that_have_webpages = []\n",
    "webpages_that_exist = []\n",
    "all_song_links = []\n",
    "all_song_titles = []\n",
    "all_song_lyrics = []"
   ]
  },
  {
   "cell_type": "markdown",
   "metadata": {},
   "source": [
    "# Data Extraction"
   ]
  },
  {
   "cell_type": "markdown",
   "metadata": {},
   "source": [
    "## **Webpage Checking**"
   ]
  },
  {
   "cell_type": "markdown",
   "metadata": {},
   "source": [
    "First, we check if a webpage exists for each singer.\n",
    "\n",
    "If a page does not exist for a singer, we discard the singer."
   ]
  },
  {
   "cell_type": "code",
   "execution_count": 26,
   "metadata": {},
   "outputs": [
    {
     "name": "stdout",
     "output_type": "stream",
     "text": [
      "<Response [403]>\n",
      "Singers with webpages: []\n"
     ]
    }
   ],
   "source": [
    "for singer_url_number in range(len(singers)):\n",
    "\n",
    "    # Gets the webpage with the singer codes\n",
    "    response = requests.get('https://www.azlyrics.com/' + singer_urls[singer_url_number][0] + '/' + singer_urls[singer_url_number] + '.html')\n",
    "    \n",
    "    # Removes singers that do not have webpages\n",
    "    if response.status_code == 200:\n",
    "        webpages_that_exist.append(response)\n",
    "        singers_that_have_webpages.append(singers[singer_url_number])\n",
    "        \n",
    "    time.sleep(0.2)\n",
    "\n",
    "    print(response)\n",
    "    \n",
    "print(\"Singers with webpages:\", singers_that_have_webpages)\n"
   ]
  },
  {
   "cell_type": "markdown",
   "metadata": {},
   "source": [
    "## **Songs URL Extraction**"
   ]
  },
  {
   "cell_type": "markdown",
   "metadata": {},
   "source": [
    "Each singer's webpage was opened and checked for \"a\" tags.\n",
    "\n",
    "Tags that contained the *href* attribute with a value that had a prefix of \"/lyrics/\" were then isolated to get the url for the song lyrics."
   ]
  },
  {
   "cell_type": "code",
   "execution_count": 18,
   "metadata": {},
   "outputs": [
    {
     "name": "stdout",
     "output_type": "stream",
     "text": [
      "Links for each song: []\n"
     ]
    }
   ],
   "source": [
    "for webpage_count in range(len(webpages_that_exist)):\n",
    "    \n",
    "    # Finds all <a> tags in the singer webpages \n",
    "    all_a_tags = BeautifulSoup(webpages_that_exist[webpage_count].text, 'html.parser').find_all('a', target=\"_blank\")\n",
    "\n",
    "    # Filters the <a> tags to get only the ones with the \"/lyrics/\" prefix \n",
    "    filtered_a_tags = [a for a in all_a_tags if a['href'].startswith(\"/lyrics/\")]\n",
    "\n",
    "    # Gets the links for all the song lyrics in the singer webpage\n",
    "    song_link = [a['href'] for a in filtered_a_tags]\n",
    "    all_song_links.append(song_link)\n",
    "\n",
    "print(\"Links for each song:\", all_song_links)"
   ]
  },
  {
   "cell_type": "markdown",
   "metadata": {},
   "source": [
    "## **Song Title and Lyrics Extraction**"
   ]
  },
  {
   "cell_type": "markdown",
   "metadata": {},
   "source": [
    "**Each song's titles and lyrics were extracted in 6 steps**\n",
    "\n",
    "\n",
    "1. The url for the webpage containing each song's lyrics was opened and converted into text form.\n",
    "\n",
    "2. For the song's title, all \"h1\" tags were extracted from the webpage\n",
    "3. A RegEx function was used to isolate the text inside quotation marks in the tag to get the title\n",
    "4. For the song lyrics, all \"div\" tags were extracted from the webpage\n",
    "5. The \"div\" tags were than checked if they contain comments\n",
    "6. Those that do were checked again if they have comments directly inside it with the text *\"Sorry about that\"* to get the lyrics"
   ]
  },
  {
   "cell_type": "code",
   "execution_count": 19,
   "metadata": {},
   "outputs": [],
   "source": [
    "for singer_number in range(len(singers_that_have_webpages)):\n",
    "\n",
    "    song_title = []\n",
    "    song_lyrics = []\n",
    "\n",
    "    for song in all_song_links[singer_number]:\n",
    "        \n",
    "        # Gets the song lyrics webpage\n",
    "        response = requests.get('https://www.azlyrics.com' + song)\n",
    "        \n",
    "        # Gets all the <div> tags in the webpage\n",
    "        all_div_tags = BeautifulSoup(response.text, 'html.parser').find_all('div')\n",
    "\n",
    "        # Finds all the h1 tags containing song titles\n",
    "        h1_tags = BeautifulSoup(response.text, 'html.parser').find_all('h1')\n",
    "\n",
    "        for tag in h1_tags:\n",
    "            \n",
    "            # Isolates the song title and adds the song titles to a list \n",
    "            pattern = r'[\"\\'](.*?)[\"\\']'\n",
    "            song_title.append(re.search(pattern, tag.text).group(1)) \n",
    "               \n",
    "        for div in all_div_tags:\n",
    "\n",
    "            # Gets all <div> tags with comments inside them\n",
    "            all_comments = div.find_all(string=lambda text: isinstance(text, Comment))\n",
    "            \n",
    "            time.sleep(0.2)\n",
    "            \n",
    "            for child in div.children:\n",
    "\n",
    "                # Filters the <div> tags to filter only the ones with the comment \"Sorry about that\" in it\n",
    "                if isinstance(child, Comment) and \"Sorry about that\" in child:\n",
    "                    song_lyrics.append(div)\n",
    "                    break\n",
    "        \n",
    "        time.sleep(0.2)\n",
    "\n",
    "    all_song_titles.append(song_title)\n",
    "    all_song_lyrics.append(song_lyrics)"
   ]
  },
  {
   "cell_type": "code",
   "execution_count": 20,
   "metadata": {},
   "outputs": [],
   "source": [
    "for count in range(len(singers_that_have_webpages)):\n",
    "\n",
    "    print(singers_that_have_webpages[count] + \":\", all_song_titles[count])"
   ]
  },
  {
   "cell_type": "markdown",
   "metadata": {},
   "source": [
    "## **Storing the Data**"
   ]
  },
  {
   "cell_type": "markdown",
   "metadata": {},
   "source": [
    "The extracted song titles and lyrics were then stored in a .csv file, with each singer being the variable "
   ]
  },
  {
   "cell_type": "code",
   "execution_count": 27,
   "metadata": {},
   "outputs": [
    {
     "ename": "ValueError",
     "evalue": "max() iterable argument is empty",
     "output_type": "error",
     "traceback": [
      "\u001b[1;31m---------------------------------------------------------------------------\u001b[0m",
      "\u001b[1;31mValueError\u001b[0m                                Traceback (most recent call last)",
      "Cell \u001b[1;32mIn[27], line 15\u001b[0m\n\u001b[0;32m     12\u001b[0m f\u001b[38;5;241m.\u001b[39mwrite(\u001b[38;5;124m'\u001b[39m\u001b[38;5;130;01m\\n\u001b[39;00m\u001b[38;5;124m'\u001b[39m)\n\u001b[0;32m     14\u001b[0m \u001b[38;5;66;03m# Outer loop for every song\u001b[39;00m\n\u001b[1;32m---> 15\u001b[0m \u001b[38;5;28;01mfor\u001b[39;00m song_number \u001b[38;5;129;01min\u001b[39;00m \u001b[38;5;28mrange\u001b[39m(\u001b[38;5;28mlen\u001b[39m(\u001b[38;5;28;43mmax\u001b[39;49m\u001b[43m(\u001b[49m\u001b[43mall_song_lyrics\u001b[49m\u001b[43m,\u001b[49m\u001b[43m \u001b[49m\u001b[43mkey\u001b[49m\u001b[38;5;241;43m=\u001b[39;49m\u001b[38;5;28;43mlen\u001b[39;49m\u001b[43m)\u001b[49m)):\n\u001b[0;32m     16\u001b[0m     \n\u001b[0;32m     17\u001b[0m     \u001b[38;5;66;03m# Inner loop for every singer\u001b[39;00m\n\u001b[0;32m     18\u001b[0m     \u001b[38;5;28;01mfor\u001b[39;00m singer_number \u001b[38;5;129;01min\u001b[39;00m \u001b[38;5;28mrange\u001b[39m(\u001b[38;5;28mlen\u001b[39m(singers_that_have_webpages)):\n\u001b[0;32m     20\u001b[0m         \u001b[38;5;28;01mtry\u001b[39;00m:\n\u001b[0;32m     21\u001b[0m \n\u001b[0;32m     22\u001b[0m             \u001b[38;5;66;03m# Puts the lyrics into the .csv file\u001b[39;00m\n",
      "\u001b[1;31mValueError\u001b[0m: max() iterable argument is empty"
     ]
    }
   ],
   "source": [
    "# Creates a .csv file\n",
    "f = open(\"S:\\\\PSHS\\\\Grade 10\\\\SIP\\\\De La Salle\\\\Projects\\\\Web Scraping Activity\\\\all_opm_songs.csv\", \"w\", encoding=\"utf-8\")\n",
    "\n",
    "for singer_number in range(len(singers_that_have_webpages)):\n",
    "    \n",
    "    f.write(singer)\n",
    "\n",
    "    if (singer_number < len(singers_that_have_webpages) - 1):\n",
    "        \n",
    "        f.write(\",\")\n",
    "\n",
    "f.write('\\n')\n",
    "\n",
    "# Outer loop for every song\n",
    "for song_number in range(len(max(all_song_lyrics, key=len))):\n",
    "    \n",
    "    # Inner loop for every singer\n",
    "    for singer_number in range(len(singers_that_have_webpages)):\n",
    "\n",
    "        try:\n",
    "\n",
    "            # Puts the lyrics into the .csv file\n",
    "            song_lyrics = all_song_titles[singer_number][song_number].replace('\\n', ' ') + \": \" + all_song_lyrics[singer_number][song_number].text.lstrip()\n",
    "            f.write(song_lyrics.replace(',', ' ').replace('\\n', ' / '))\n",
    "\n",
    "            if (singer_number < len(singers_that_have_webpages) - 1):\n",
    "\n",
    "                f.write(\",\")\n",
    "        \n",
    "        except IndexError:\n",
    "            continue\n",
    "\n",
    "    f.write('\\n')\n",
    "\n",
    "f.close()\n",
    "\n",
    "pd.read_csv(\"all_opm_songs.csv\")\n"
   ]
  },
  {
   "cell_type": "markdown",
   "metadata": {},
   "source": [
    "# *Exploratory Data Analysis*"
   ]
  },
  {
   "cell_type": "markdown",
   "metadata": {},
   "source": [
    "A few questions were made which can be answered by Exploratory Data Analysis\n",
    "\n",
    "1. Which singer has the most songs? Which had the lowest?\n",
    "2. What word was the most frequently used out of all words in all song lyrics? What word was the least frequent?"
   ]
  },
  {
   "cell_type": "code",
   "execution_count": 28,
   "metadata": {},
   "outputs": [
    {
     "data": {
      "text/html": [
       "<div>\n",
       "<style scoped>\n",
       "    .dataframe tbody tr th:only-of-type {\n",
       "        vertical-align: middle;\n",
       "    }\n",
       "\n",
       "    .dataframe tbody tr th {\n",
       "        vertical-align: top;\n",
       "    }\n",
       "\n",
       "    .dataframe thead th {\n",
       "        text-align: right;\n",
       "    }\n",
       "</style>\n",
       "<table border=\"1\" class=\"dataframe\">\n",
       "  <thead>\n",
       "    <tr style=\"text-align: right;\">\n",
       "      <th></th>\n",
       "      <th>Jake Zyrus</th>\n",
       "      <th>Jake Zyrus.1</th>\n",
       "    </tr>\n",
       "  </thead>\n",
       "  <tbody>\n",
       "    <tr>\n",
       "      <th>0</th>\n",
       "      <td>Espasyo: Kwento-kwenta  Kwento-kwenta / Kwento...</td>\n",
       "      <td>Hiling: Nag-iisang pag-ibig ang nais makamit y...</td>\n",
       "    </tr>\n",
       "    <tr>\n",
       "      <th>1</th>\n",
       "      <td>Akrostik: D - Di ako si Bamboo  Chito Parokya ...</td>\n",
       "      <td>Bagyo: Naririnig kay lakas ng pintig / Nagbaba...</td>\n",
       "    </tr>\n",
       "    <tr>\n",
       "      <th>2</th>\n",
       "      <td>Aba-Aba: Kasalanan ko kung bakit ka nagkaganya...</td>\n",
       "      <td>I: When you wake up each mornin' / And you fee...</td>\n",
       "    </tr>\n",
       "    <tr>\n",
       "      <th>3</th>\n",
       "      <td>Perpekto: Ikaw ay nagdaramdam / Puso ay nagdur...</td>\n",
       "      <td>DNM: 'Di mo na kailangan / Mag-abala  mag-alal...</td>\n",
       "    </tr>\n",
       "    <tr>\n",
       "      <th>4</th>\n",
       "      <td>Kukote: May araw na o laging gabi / Sa mata ng...</td>\n",
       "      <td>Diamond: I have to admit I am in the rough / T...</td>\n",
       "    </tr>\n",
       "  </tbody>\n",
       "</table>\n",
       "</div>"
      ],
      "text/plain": [
       "                                          Jake Zyrus  \\\n",
       "0  Espasyo: Kwento-kwenta  Kwento-kwenta / Kwento...   \n",
       "1  Akrostik: D - Di ako si Bamboo  Chito Parokya ...   \n",
       "2  Aba-Aba: Kasalanan ko kung bakit ka nagkaganya...   \n",
       "3  Perpekto: Ikaw ay nagdaramdam / Puso ay nagdur...   \n",
       "4  Kukote: May araw na o laging gabi / Sa mata ng...   \n",
       "\n",
       "                                        Jake Zyrus.1  \n",
       "0  Hiling: Nag-iisang pag-ibig ang nais makamit y...  \n",
       "1  Bagyo: Naririnig kay lakas ng pintig / Nagbaba...  \n",
       "2  I: When you wake up each mornin' / And you fee...  \n",
       "3  DNM: 'Di mo na kailangan / Mag-abala  mag-alal...  \n",
       "4  Diamond: I have to admit I am in the rough / T...  "
      ]
     },
     "execution_count": 28,
     "metadata": {},
     "output_type": "execute_result"
    }
   ],
   "source": [
    "hfi_dataset = pd.read_csv('All OPM Songs.csv')\n",
    "hfi_dataset.head()"
   ]
  },
  {
   "cell_type": "markdown",
   "metadata": {},
   "source": [
    "## **EDA Question 1**"
   ]
  },
  {
   "cell_type": "markdown",
   "metadata": {},
   "source": [
    "Question: Which singer has the most songs? Which had the lowest?"
   ]
  },
  {
   "cell_type": "markdown",
   "metadata": {},
   "source": [
    "In order to compare the **frequency** of each word, we will split each song's lyrics into words.\n",
    "\n",
    "Then, we create a bar graph for each word and their frequency."
   ]
  },
  {
   "cell_type": "code",
   "execution_count": 29,
   "metadata": {},
   "outputs": [],
   "source": [
    "for lyrics in all_song_lyrics:\n",
    "\n",
    "    words = lyrics.replace(',', ' ').split(' ')\n",
    "\n",
    "    print(words)"
   ]
  },
  {
   "cell_type": "code",
   "execution_count": 30,
   "metadata": {},
   "outputs": [
    {
     "name": "stdout",
     "output_type": "stream",
     "text": [
      "<class 'pandas.core.frame.DataFrame'>\n",
      "RangeIndex: 14 entries, 0 to 13\n",
      "Data columns (total 2 columns):\n",
      " #   Column        Non-Null Count  Dtype \n",
      "---  ------        --------------  ----- \n",
      " 0   Jake Zyrus    14 non-null     object\n",
      " 1   Jake Zyrus.1  11 non-null     object\n",
      "dtypes: object(2)\n",
      "memory usage: 356.0+ bytes\n"
     ]
    }
   ],
   "source": [
    "hfi_dataset[]"
   ]
  }
 ],
 "metadata": {
  "kernelspec": {
   "display_name": "Python 3",
   "language": "python",
   "name": "python3"
  },
  "language_info": {
   "codemirror_mode": {
    "name": "ipython",
    "version": 3
   },
   "file_extension": ".py",
   "mimetype": "text/x-python",
   "name": "python",
   "nbconvert_exporter": "python",
   "pygments_lexer": "ipython3",
   "version": "3.12.4"
  }
 },
 "nbformat": 4,
 "nbformat_minor": 2
}
